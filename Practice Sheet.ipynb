{
 "cells": [
  {
   "cell_type": "code",
   "execution_count": null,
   "metadata": {},
   "outputs": [],
   "source": [
    "import numpy as np\n",
    "a = np.array([3,6,9])\n",
    "b = np.array([9,6,2])\n",
    "\n",
    "def solve(a,b):\n",
    "    aScore=0;bScore = 0\n",
    "    for i in range(0,len(a)):\n",
    "        if a[i]>b[i]:\n",
    "            aScore +=1\n",
    "        elif b[i]>a[i]:\n",
    "            bScore +=1\n",
    "        else:\n",
    "            continue\n",
    "    result =[]\n",
    "    result = [aScore,bScore]\n",
    "    return result\n",
    "    \n",
    "    \n",
    "s = solve(a,b)\n",
    "print(s)"
   ]
  },
  {
   "cell_type": "code",
   "execution_count": null,
   "metadata": {},
   "outputs": [],
   "source": [
    "ar = np.array([[1,2,3],[4,5,6],[7,8,9]])\n",
    "def diag1(ar):\n",
    "    prim_diag= 0\n",
    "    sec_diag=0\n",
    "    n = ar.shape[0]\n",
    "    for i in range(0,n):\n",
    "        prim_diag +=ar[i,i]\n",
    "        sec_diag +=ar[i,n-i-1]\n",
    "    diff = abs(prim_diag-sec_diag)\n",
    "    print(prim_diag)\n",
    "    print(sec_diag)\n",
    "    print(diff)\n",
    "\n",
    "diag1(ar)"
   ]
  },
  {
   "cell_type": "code",
   "execution_count": null,
   "metadata": {},
   "outputs": [],
   "source": [
    "print(sum)"
   ]
  },
  {
   "cell_type": "code",
   "execution_count": null,
   "metadata": {},
   "outputs": [],
   "source": [
    "import numpy as np\n",
    "import copy\n",
    "#a = np.array([1,2,3,4])\n",
    "a1 = [1,2,[3,5],4]\n",
    "a2 = copy.deepcopy(a1)\n",
    "print(hex(id(a1)))\n",
    "\n",
    "for i in range(0,len(a1)):\n",
    "    print(hex(id(a1[i])))\n",
    "\n",
    "print(\"***\")\n",
    "print(hex(id(a2)))\n",
    "for i in range(0,len(a2)):\n",
    "    print(hex(id(a2[i])))\n",
    "a2[2][0]=9\n",
    "# for i in range(0,len(a1)):\n",
    "#     print(a1[i])\n",
    "print(a1)\n",
    "# print(a2)"
   ]
  },
  {
   "cell_type": "code",
   "execution_count": null,
   "metadata": {},
   "outputs": [],
   "source": [
    "# Python code to demonstrate copy operations\n",
    " \n",
    "# importing \"copy\" for copy operations\n",
    "import copy\n",
    " \n",
    "# initializing list 1\n",
    "li1 = [1, 2, [3,5], 4]\n",
    " \n",
    "# using copy to shallow copy \n",
    "li2 = copy.copy(li1)\n",
    " \n",
    "# original elements of list\n",
    "print (\"The original elements before shallow copying\")\n",
    "for i in range(0,len(li1)):\n",
    "    print (li1[i],end=\" \")\n",
    " \n",
    "print(\"\\r\")\n",
    " \n",
    "# adding and element to new list\n",
    "li2[0] = 7\n",
    " \n",
    "# checking if change is reflected\n",
    "print (\"The original elements after shallow copying\")\n",
    "for i in range(0,len( li1)):\n",
    "    print (li1[i],end=\" \")"
   ]
  },
  {
   "cell_type": "code",
   "execution_count": null,
   "metadata": {},
   "outputs": [],
   "source": [
    "a = [3,2,3,1]\n",
    "b = a\n",
    "b[0] = 1\n",
    "print(a)"
   ]
  },
  {
   "cell_type": "code",
   "execution_count": 79,
   "metadata": {},
   "outputs": [
    {
     "name": "stdout",
     "output_type": "stream",
     "text": [
      "[1, 2, 3, 6, 9, 8, 7, 4, 5]\n"
     ]
    }
   ],
   "source": [
    "a = [[1,2,3],[4,5,6],[7,8,9]]\n",
    "result = solve(a)\n",
    "print (result)\n",
    "def solve(a):\n",
    "    b =[]\n",
    "    T=0;B=3;L=0;R=3\n",
    "    direction=0\n",
    "    while(T<=B and L<=R):\n",
    "        #print(b)\n",
    "    #     print(\"direction\",direction)\n",
    "        if(direction==0):\n",
    "            for i in range(L,R):\n",
    "    #             print(\"top\",T)\n",
    "    #             print(\"left\",L)\n",
    "    #             print(\"right\",R)\n",
    "                b.append(a[T][i])\n",
    "                \n",
    "            T +=1\n",
    "            direction +=1\n",
    "        elif(direction==1):\n",
    "            for j in range(T,B):\n",
    "                b.append(a[j][i])\n",
    "            R -=1\n",
    "            direction +=1\n",
    "        elif(direction==2):\n",
    "            for i in range(R-1,L-1,-1):\n",
    "                b.append(a[j][i])\n",
    "            B -=1\n",
    "            direction +=1\n",
    "        elif(direction==3):\n",
    "    #         print(\"bottom\",B)\n",
    "    #         print(\"top\",T)\n",
    "            for j in range(B-1,T-1,-1):\n",
    "                b.append(a[j][i])\n",
    "            L +=1\n",
    "            direction= (direction+1)%4           \n",
    "    return (b)"
   ]
  },
  {
   "cell_type": "code",
   "execution_count": 30,
   "metadata": {},
   "outputs": [
    {
     "name": "stdout",
     "output_type": "stream",
     "text": [
      "2\n",
      "1\n"
     ]
    }
   ],
   "source": [
    "a=3\n",
    "for i in range(a-1,0,-1):\n",
    "    print(i)"
   ]
  },
  {
   "cell_type": "code",
   "execution_count": 35,
   "metadata": {},
   "outputs": [
    {
     "name": "stdout",
     "output_type": "stream",
     "text": [
      "1\n",
      "2\n",
      "3\n",
      "0\n",
      "1\n",
      "2\n",
      "3\n",
      "0\n",
      "1\n",
      "2\n"
     ]
    }
   ],
   "source": [
    "for i in range(0,10):\n",
    "    print((i+1)%4)"
   ]
  },
  {
   "cell_type": "code",
   "execution_count": 63,
   "metadata": {},
   "outputs": [
    {
     "ename": "TabError",
     "evalue": "inconsistent use of tabs and spaces in indentation (<ipython-input-63-28cdc1dbc741>, line 5)",
     "output_type": "error",
     "traceback": [
      "\u001b[0;36m  File \u001b[0;32m\"<ipython-input-63-28cdc1dbc741>\"\u001b[0;36m, line \u001b[0;32m5\u001b[0m\n\u001b[0;31m    direction=0\u001b[0m\n\u001b[0m               ^\u001b[0m\n\u001b[0;31mTabError\u001b[0m\u001b[0;31m:\u001b[0m inconsistent use of tabs and spaces in indentation\n"
     ]
    }
   ],
   "source": [
    "class Solution:\n",
    "\t# @param A : tuple of list of integers\n",
    "\t# @return a list of integers\n",
    "\tdef spiralOrder(self, A):\n",
    "        direction=0\n",
    "\t    T=0;B=A.shape[0];L=0;R=A.shape[1]\n",
    "        while(T<=B and L<=R):\n",
    "            if direction=0:\n",
    "                for i in range(L,R):\n",
    "                    print(a[T][i],end=\" \")\n",
    "                T +=1\n",
    "                direction +=1\n",
    "            elif(direction==1):\n",
    "                for j in range(T,B):\n",
    "                    print(a[j][i],end=\" \")\n",
    "                R -=1\n",
    "                direction +=1\n",
    "            elif(direction==2):\n",
    "                for i in range(R-1,L-1,-1):\n",
    "                    print(a[j][i],end=\" \")\n",
    "                B -=1\n",
    "                direction +=1\n",
    "            elif(direction==3):\n",
    "                for j in range(B-1,T-1,-1):\n",
    "                    print(a[j][i],end=\" \")\n",
    "                L +=1\n",
    "                direction= (direction+1)%4"
   ]
  },
  {
   "cell_type": "code",
   "execution_count": 103,
   "metadata": {
    "collapsed": true
   },
   "outputs": [],
   "source": [
    "import numpy as np\n",
    "class Solution:\n",
    "    # @param A : tuple of list of integers\n",
    "    # @return a list of integers\n",
    "    def spiralOrder(self, A):\n",
    "        lst = []\n",
    "        t = 0\n",
    "        b = len(A) - 1\n",
    "        l = 0\n",
    "        r = len(A[0]) - 1\n",
    "        dir = 0\n",
    "        while(t <= b and l <= r):\n",
    "            if(dir == 0):\n",
    "                for i in range(l,r+1):\n",
    "                    lst.append(A[t][i])\n",
    "                t += 1\n",
    "            elif(dir == 1):\n",
    "                for i in range(t,b+1):\n",
    "                    lst.append(A[i][r])\n",
    "                r -= 1\n",
    "            elif(dir == 2):\n",
    "                for i in range(r,l-1,-1):\n",
    "                    lst.append(A[b][i])\n",
    "                b -= 1\n",
    "            elif (dir == 3):\n",
    "                for i in range(b,t-1,-1):\n",
    "                    lst.append(A[i][l])\n",
    "                l += 1\n",
    "            dir = (dir + 1) % 4\n",
    "        return lst"
   ]
  },
  {
   "cell_type": "code",
   "execution_count": 138,
   "metadata": {},
   "outputs": [],
   "source": [
    "class Solution:\n",
    "    def spiralOrder(A):\n",
    "        b =[]\n",
    "        T=0\n",
    "        B=len(A)-1\n",
    "        L=0\n",
    "        R=len(A[0])-1\n",
    "        direction=0\n",
    "        while(T<=B and L<=R):\n",
    "            if(direction==0):\n",
    "                for i in range(L,R+1):\n",
    "                    b.append(A[T][i])\n",
    "                T +=1\n",
    "                #direction +=1\n",
    "            elif(direction==1):\n",
    "                for j in range(T,B+1):\n",
    "                    b.append(A[j][R])\n",
    "                R -=1\n",
    "                #direction +=1\n",
    "            elif(direction==2):\n",
    "                for i in range(R,L-1,-1):\n",
    "                    b.append(A[B][i])\n",
    "                B -=1\n",
    "                #direction +=1\n",
    "            elif(direction==3):\n",
    "                for j in range(B,T-1,-1):\n",
    "                    b.append(A[j][L])\n",
    "                L +=1\n",
    "            direction= (direction+1)%4        \n",
    "        return (b)"
   ]
  },
  {
   "cell_type": "code",
   "execution_count": 139,
   "metadata": {},
   "outputs": [
    {
     "name": "stdout",
     "output_type": "stream",
     "text": [
      "[1, 2, 4, 6, 5, 3]\n"
     ]
    }
   ],
   "source": [
    "#A = [[1,2,3],[4,5,6],[7,8,9],[10,11,12]]\n",
    "A = [\n",
    "  [1, 2],\n",
    "  [3, 4],\n",
    "  [5, 6]\n",
    "]\n",
    "#print(A[0][0])\n",
    "# if isinstance(A[0],list):\n",
    "#     print(True)\n",
    "# else:\n",
    "#     print(False)\n",
    "result =Solution.spiralOrder(A)\n",
    "print(result)"
   ]
  },
  {
   "cell_type": "code",
   "execution_count": 144,
   "metadata": {
    "collapsed": true
   },
   "outputs": [],
   "source": [
    "class Solution:\n",
    "    def rotateArray(A, B):\n",
    "        ret = []\n",
    "        for i in range(len(A)):\n",
    "            if i == len(A)-1:\n",
    "                ret.append(A[0])\n",
    "            else:\n",
    "                ret.append(A[i + B])\n",
    "        return ret"
   ]
  },
  {
   "cell_type": "code",
   "execution_count": 145,
   "metadata": {},
   "outputs": [
    {
     "name": "stdout",
     "output_type": "stream",
     "text": [
      "[2, 3, 4, 5, 6, 1]\n"
     ]
    }
   ],
   "source": [
    "A = [1,2,3,4,5,6]\n",
    "B = 1\n",
    "result = Solution.rotateArray(A,B)\n",
    "print(result)"
   ]
  },
  {
   "cell_type": "code",
   "execution_count": 173,
   "metadata": {},
   "outputs": [
    {
     "data": {
      "text/plain": [
       "1"
      ]
     },
     "execution_count": 173,
     "metadata": {},
     "output_type": "execute_result"
    }
   ],
   "source": [
    "A = [2,1,0]\n",
    "\n",
    "def solve(self,A):\n",
    "    j=0\n",
    "    while j <len(A):\n",
    "        piv = A[j]\n",
    "        total =0\n",
    "        for i in range(len(A)):\n",
    "            if A[i]>piv:\n",
    "                total=total+1\n",
    "        j +=1\n",
    "        if total == piv:\n",
    "            return 1\n",
    "        \n",
    "    return -1\n",
    "\n",
    "solve(A)\n",
    "    \n",
    "    \n",
    "    \n",
    "    \n"
   ]
  },
  {
   "cell_type": "code",
   "execution_count": 176,
   "metadata": {},
   "outputs": [
    {
     "data": {
      "text/plain": [
       "1"
      ]
     },
     "execution_count": 176,
     "metadata": {},
     "output_type": "execute_result"
    }
   ],
   "source": [
    "A =[2, 3, 4, 5, 6, 1]\n",
    "def solve(A):\n",
    "    A.sort()\n",
    "    n = len(A)\n",
    "    for i in range(n-1):\n",
    "        if A[i] == A[i+1]:\n",
    "            continue\n",
    "\n",
    "        if A[i] == n-i-1:\n",
    "            return 1\n",
    "\n",
    "    if A[n-1] == 0:\n",
    "        return 1\n",
    "\n",
    "    return -1\n",
    "solve(A)"
   ]
  },
  {
   "cell_type": "code",
   "execution_count": 188,
   "metadata": {},
   "outputs": [
    {
     "name": "stdout",
     "output_type": "stream",
     "text": [
      "910\n"
     ]
    }
   ],
   "source": [
    "A = [9,0,9]\n",
    "length= len(A)\n",
    "total =0\n",
    "for i in range(len(A)):\n",
    "    total +=A[i] * pow(10,length-i-1)\n",
    "print(total+1)"
   ]
  },
  {
   "cell_type": "code",
   "execution_count": 193,
   "metadata": {},
   "outputs": [
    {
     "name": "stdout",
     "output_type": "stream",
     "text": [
      "-5\n"
     ]
    }
   ],
   "source": [
    "\n",
    "A = [-2,1,-3,4,-1,2,1,-5,4]\n",
    "\n",
    "def maxSubArray(A):\n",
    "    inf = float('inf')\n",
    "    best = inf\n",
    "    sumsofar = 0\n",
    "    for x in A:\n",
    "        sumsofar += x\n",
    "        best = min(sumsofar, best)\n",
    "        # Doing this last, to handle case\n",
    "        # when all numbers are negative.\n",
    "        sumsofar = min(sumsofar, 0)\n",
    "    return best\n",
    "\n",
    "a = maxSubArray(A)\n",
    "print(a)"
   ]
  },
  {
   "cell_type": "code",
   "execution_count": 205,
   "metadata": {},
   "outputs": [
    {
     "name": "stdout",
     "output_type": "stream",
     "text": [
      "i 1\n",
      "j 2\n",
      "3\n",
      "i 2\n",
      "j 1\n",
      "3\n"
     ]
    },
    {
     "data": {
      "text/plain": [
       "3"
      ]
     },
     "execution_count": 205,
     "metadata": {},
     "output_type": "execute_result"
    }
   ],
   "source": [
    "A = [1,-1]\n",
    "b = []\n",
    "for i in range(1,len(A)+1):\n",
    "    for j in range(1,len(A)+1):\n",
    "        if i==j:\n",
    "            b.append(0)\n",
    "        else:\n",
    "            print(\"i\",i)\n",
    "            print(\"j\",j)\n",
    "            calc = abs(A[i-1]-A[j-1]) + abs(i-j)\n",
    "            print(calc)\n",
    "            b.append(calc)\n",
    "max(b)"
   ]
  },
  {
   "cell_type": "code",
   "execution_count": 198,
   "metadata": {},
   "outputs": [
    {
     "name": "stdout",
     "output_type": "stream",
     "text": [
      "1\n",
      "2\n",
      "-1\n"
     ]
    }
   ],
   "source": [
    "A = [1,2,-1]\n",
    "for i in range(1,len(A)+1):\n",
    "    print(A[i-1])"
   ]
  },
  {
   "cell_type": "code",
   "execution_count": 208,
   "metadata": {},
   "outputs": [
    {
     "name": "stdout",
     "output_type": "stream",
     "text": [
      "3 4\n"
     ]
    }
   ],
   "source": [
    "#for cont array, print the number appearing twice and the missing number. code in linear time.\n",
    "A = [3,1,2,5,3]\n",
    "size = len(A)+1\n",
    "count = [0]*size\n",
    "for val in A:\n",
    "    count[val] +=1\n",
    "res1=0\n",
    "res2=0\n",
    "for id,val in enumerate(count):\n",
    "    if val==2:\n",
    "        res1 = id\n",
    "    elif val ==0:\n",
    "        res2 = id\n",
    "print(res1,res2)"
   ]
  },
  {
   "cell_type": "code",
   "execution_count": 233,
   "metadata": {
    "collapsed": true
   },
   "outputs": [],
   "source": [
    "def flip1(A):\n",
    "    A=list(A)\n",
    "    n=len(A)\n",
    "    L=-1\n",
    "    for i in range(0,n):\n",
    "        if(A[i]=='0'):\n",
    "            L=i\n",
    "            break\n",
    "    if(L==-1):\n",
    "        x=[]\n",
    "        return x\n",
    "    x=[-1,-1]\n",
    "    max=0\n",
    "    count=0\n",
    "    R=L\n",
    "    print(\"R\",R)\n",
    "    print(\"L\",L)\n",
    "    for i in range(L,n):\n",
    "        if(A[i]=='0'):\n",
    "            count+=1\n",
    "        else:\n",
    "            count-=1\n",
    "        if(count>max):\n",
    "            x=[L,R]\n",
    "            max=count\n",
    "        if(count<0):\n",
    "            count=0\n",
    "            L=i+1\n",
    "        R+=1\n",
    "    if(x[0]==-1):\n",
    "        x=[]\n",
    "    else:\n",
    "        x[0]+=1\n",
    "        x[1]+=1\n",
    "    return x"
   ]
  },
  {
   "cell_type": "code",
   "execution_count": 258,
   "metadata": {},
   "outputs": [],
   "source": [
    "def flip(string):\n",
    "    A = list(string)\n",
    "    n = len(A)\n",
    "    L=0\n",
    "    R=L\n",
    "    x=[-1,-1]\n",
    "    max=0\n",
    "    count=0\n",
    "    for i in range(L,n):\n",
    "        if A[i]=='0':\n",
    "            count +=1\n",
    "        else:\n",
    "            count -=1\n",
    "        \n",
    "        if count>max:\n",
    "            max = count\n",
    "            x = [L,R]\n",
    "        if(count<0):\n",
    "            count=0\n",
    "            L=i+1\n",
    "        R +=1\n",
    "    x[0]+=1\n",
    "    x[1]+=1\n",
    "    return x"
   ]
  },
  {
   "cell_type": "code",
   "execution_count": 259,
   "metadata": {},
   "outputs": [
    {
     "name": "stdout",
     "output_type": "stream",
     "text": [
      "[1, 2]\n"
     ]
    }
   ],
   "source": [
    "string =\"001\"\n",
    "a = flip(string)\n",
    "print(a)"
   ]
  },
  {
   "cell_type": "code",
   "execution_count": 35,
   "metadata": {},
   "outputs": [
    {
     "name": "stdout",
     "output_type": "stream",
     "text": [
      "[8, 10]\n",
      "[1, 2, 3, 6, 8, 10]\n",
      "[1, 2, 3, 6, 8, 10]\n"
     ]
    }
   ],
   "source": [
    "#merge intervals\n",
    "A = [1,2,3,6]\n",
    "B = [10,8]\n",
    "B.sort()\n",
    "print(B)\n",
    "index = []\n",
    "L = -1\n",
    "for idx,val in enumerate(A):\n",
    "    if val >= B[0] and val < B[1]:\n",
    "        L =0\n",
    "        print(val)\n",
    "        index.append(idx)\n",
    "\n",
    "if L ==-1:\n",
    "    for i in range(len(B)):\n",
    "        A.append(B[i])\n",
    "\n",
    "for i in reversed(index):\n",
    "    del A[i]\n",
    "\n",
    "print(A)\n",
    "\n",
    "if len(A)%2==1:\n",
    "    for i in range(len(A)):\n",
    "        if A[i]>B[1]:\n",
    "            index = i\n",
    "            break\n",
    "    A = A[:index] + [B[1]] + A[index:]\n",
    "        \n",
    "print(A)   "
   ]
  },
  {
   "cell_type": "code",
   "execution_count": 12,
   "metadata": {},
   "outputs": [
    {
     "name": "stdout",
     "output_type": "stream",
     "text": [
      "[1, 6, 9]\n",
      "<class 'int'>\n",
      "[1, 5, 6, 9]\n"
     ]
    }
   ],
   "source": [
    "a = [1,6,9]\n",
    "b = sorted(a)\n",
    "print (b)\n",
    "c = 5\n",
    "print(type(c))\n",
    "for i in range(len(b)):\n",
    "    if b[i] > c:\n",
    "        index = i\n",
    "        break\n",
    "d = b[:i] + [c] + b[i:]\n",
    "print (d)"
   ]
  },
  {
   "cell_type": "code",
   "execution_count": 13,
   "metadata": {},
   "outputs": [
    {
     "data": {
      "text/plain": [
       "10"
      ]
     },
     "execution_count": 13,
     "metadata": {},
     "output_type": "execute_result"
    }
   ],
   "source": [
    "mask = True*len(A)\n",
    "mask"
   ]
  },
  {
   "cell_type": "code",
   "execution_count": 11,
   "metadata": {},
   "outputs": [
    {
     "name": "stdout",
     "output_type": "stream",
     "text": [
      "val 1\n",
      "val 2\n",
      "2\n",
      "val 5\n",
      "val 6\n",
      "val 7\n",
      "val 8\n",
      "val 10\n",
      "val 12\n",
      "val 16\n"
     ]
    }
   ],
   "source": [
    "A = [1,2,3,5,6,7,8,10,12,16]\n",
    "C = A.copy()\n",
    "B = [2,5]\n",
    "for idx,val in enumerate(A):\n",
    "    print(\"val\",val)\n",
    "    if val >= B[0] and val < B[1]:\n",
    "        C.pop(idx)\n",
    "        print(val)\n",
    "        "
   ]
  },
  {
   "cell_type": "code",
   "execution_count": 43,
   "metadata": {},
   "outputs": [
    {
     "name": "stdout",
     "output_type": "stream",
     "text": [
      "[(1, 1), (3, 1), (5, 1), (2, 0), (6, 0), (8, 0)]\n",
      "0\n"
     ]
    }
   ],
   "source": [
    "a = [1,3,5]\n",
    "d = [2,6,8]\n",
    "k=1\n",
    "def solve(a,d,k):\n",
    "    events = [(t,1) for t in a]+[(t,0) for t in d]\n",
    "    print(events)\n",
    "    events = sorted(events)\n",
    "    events\n",
    "    c=0\n",
    "    for event in events:\n",
    "        if event[1]==1:\n",
    "            c +=1\n",
    "        else:\n",
    "            c -=1\n",
    "        if c>k:\n",
    "             return 0\n",
    "    return 1\n",
    "res = solve(a,d,k)\n",
    "print(res)\n",
    "        "
   ]
  },
  {
   "cell_type": "code",
   "execution_count": 61,
   "metadata": {},
   "outputs": [
    {
     "ename": "TypeError",
     "evalue": "'cmp' is an invalid keyword argument for this function",
     "output_type": "error",
     "traceback": [
      "\u001b[0;31m---------------------------------------------------------------------------\u001b[0m",
      "\u001b[0;31mTypeError\u001b[0m                                 Traceback (most recent call last)",
      "\u001b[0;32m<ipython-input-61-b497156a4edd>\u001b[0m in \u001b[0;36m<module>\u001b[0;34m()\u001b[0m\n\u001b[1;32m     12\u001b[0m \u001b[0;31m# driver code\u001b[0m\u001b[0;34m\u001b[0m\u001b[0;34m\u001b[0m\u001b[0m\n\u001b[1;32m     13\u001b[0m \u001b[0ma\u001b[0m \u001b[0;34m=\u001b[0m \u001b[0;34m[\u001b[0m\u001b[0;36m54\u001b[0m\u001b[0;34m,\u001b[0m \u001b[0;36m546\u001b[0m\u001b[0;34m,\u001b[0m \u001b[0;36m548\u001b[0m\u001b[0;34m,\u001b[0m \u001b[0;36m60\u001b[0m\u001b[0;34m,\u001b[0m\u001b[0;34m]\u001b[0m\u001b[0;34m\u001b[0m\u001b[0m\n\u001b[0;32m---> 14\u001b[0;31m \u001b[0msorted_array\u001b[0m \u001b[0;34m=\u001b[0m \u001b[0msorted\u001b[0m\u001b[0;34m(\u001b[0m\u001b[0ma\u001b[0m\u001b[0;34m,\u001b[0m \u001b[0mcmp\u001b[0m\u001b[0;34m=\u001b[0m\u001b[0mcomparator\u001b[0m\u001b[0;34m)\u001b[0m\u001b[0;34m\u001b[0m\u001b[0m\n\u001b[0m\u001b[1;32m     15\u001b[0m \u001b[0mnumber\u001b[0m \u001b[0;34m=\u001b[0m \u001b[0;34m\"\"\u001b[0m\u001b[0;34m.\u001b[0m\u001b[0mjoin\u001b[0m\u001b[0;34m(\u001b[0m\u001b[0;34m[\u001b[0m\u001b[0mstr\u001b[0m\u001b[0;34m(\u001b[0m\u001b[0mi\u001b[0m\u001b[0;34m)\u001b[0m \u001b[0;32mfor\u001b[0m \u001b[0mi\u001b[0m \u001b[0;32min\u001b[0m \u001b[0msorted_array\u001b[0m\u001b[0;34m]\u001b[0m\u001b[0;34m)\u001b[0m\u001b[0;34m\u001b[0m\u001b[0m\n\u001b[1;32m     16\u001b[0m \u001b[0mprint\u001b[0m\u001b[0;34m(\u001b[0m\u001b[0mnumber\u001b[0m\u001b[0;34m)\u001b[0m\u001b[0;34m\u001b[0m\u001b[0m\n",
      "\u001b[0;31mTypeError\u001b[0m: 'cmp' is an invalid keyword argument for this function"
     ]
    }
   ],
   "source": [
    "# Python Program to get the maximum\n",
    "# possible integer from given array\n",
    "# of integers...\n",
    " \n",
    "# custom comparator to sort according\n",
    "# to the ab, ba as mentioned in description\n",
    "def comparator(a, b):\n",
    "    ab = str(a)+str(b)\n",
    "    ba = str(b)+str(a)\n",
    "    return cmp(int(ba), int(ab))\n",
    " \n",
    "# driver code \n",
    "a = [54, 546, 548, 60,]\n",
    "sorted_array = sorted(a, cmp=comparator)\n",
    "number = \"\".join([str(i) for i in sorted_array])\n",
    "print(number)\n",
    "    "
   ]
  },
  {
   "cell_type": "code",
   "execution_count": 76,
   "metadata": {},
   "outputs": [
    {
     "ename": "TypeError",
     "evalue": "<lambda>() missing 1 required positional argument: 'b'",
     "output_type": "error",
     "traceback": [
      "\u001b[0;31m---------------------------------------------------------------------------\u001b[0m",
      "\u001b[0;31mTypeError\u001b[0m                                 Traceback (most recent call last)",
      "\u001b[0;32m<ipython-input-76-c2652f01c765>\u001b[0m in \u001b[0;36m<module>\u001b[0;34m()\u001b[0m\n\u001b[1;32m      8\u001b[0m         \u001b[0;32mreturn\u001b[0m \u001b[0;34m-\u001b[0m\u001b[0;36m1\u001b[0m\u001b[0;34m\u001b[0m\u001b[0m\n\u001b[1;32m      9\u001b[0m \u001b[0;31m#some_list.sort(key=lambda a:0 if a==0 else -1)\u001b[0m\u001b[0;34m\u001b[0m\u001b[0;34m\u001b[0m\u001b[0m\n\u001b[0;32m---> 10\u001b[0;31m \u001b[0msome_list\u001b[0m\u001b[0;34m.\u001b[0m\u001b[0msort\u001b[0m\u001b[0;34m(\u001b[0m\u001b[0mkey\u001b[0m\u001b[0;34m=\u001b[0m\u001b[0;32mlambda\u001b[0m \u001b[0ma\u001b[0m\u001b[0;34m,\u001b[0m\u001b[0mb\u001b[0m\u001b[0;34m:\u001b[0m\u001b[0;34m-\u001b[0m\u001b[0;36m1\u001b[0m \u001b[0;32mif\u001b[0m \u001b[0mb\u001b[0m\u001b[0;34m==\u001b[0m\u001b[0;36m0\u001b[0m \u001b[0;32melse\u001b[0m \u001b[0;36m0\u001b[0m\u001b[0;34m)\u001b[0m\u001b[0;34m\u001b[0m\u001b[0m\n\u001b[0m\u001b[1;32m     11\u001b[0m \u001b[0msome_list\u001b[0m\u001b[0;34m\u001b[0m\u001b[0m\n",
      "\u001b[0;31mTypeError\u001b[0m: <lambda>() missing 1 required positional argument: 'b'"
     ]
    }
   ],
   "source": [
    "some_list = [0,1,0,2,3,0,4]\n",
    "#some_list = list(map(str,some_list))\n",
    "#keyfunction=cmp_to_key(1 if a+b>=b+a else -1)\n",
    "def keyfunction(a,b):\n",
    "    if a>b:\n",
    "        return 1\n",
    "    else:\n",
    "        return -1\n",
    "#some_list.sort(key=lambda a:0 if a==0 else -1)\n",
    "some_list.sort(key=lambda a,b:-1 if b==0 else 0)\n",
    "some_list"
   ]
  },
  {
   "cell_type": "code",
   "execution_count": 67,
   "metadata": {},
   "outputs": [
    {
     "name": "stdout",
     "output_type": "stream",
     "text": [
      "330\n"
     ]
    }
   ],
   "source": [
    "a = [30,3]\n",
    "a = list(map(str,a))\n",
    "a1 = a[0]+a[1]\n",
    "a2 = a[1]+a[0]\n",
    "if a1>a2:\n",
    "    print(a1)\n",
    "else:\n",
    "    print(a2)"
   ]
  },
  {
   "cell_type": "code",
   "execution_count": 77,
   "metadata": {},
   "outputs": [
    {
     "ename": "NameError",
     "evalue": "name 'cmp_to_key' is not defined",
     "output_type": "error",
     "traceback": [
      "\u001b[0;31m---------------------------------------------------------------------------\u001b[0m",
      "\u001b[0;31mNameError\u001b[0m                                 Traceback (most recent call last)",
      "\u001b[0;32m<ipython-input-77-0835f7149dd5>\u001b[0m in \u001b[0;36m<module>\u001b[0;34m()\u001b[0m\n\u001b[1;32m      1\u001b[0m \u001b[0mA\u001b[0m \u001b[0;34m=\u001b[0m \u001b[0;34m[\u001b[0m\u001b[0;36m3\u001b[0m\u001b[0;34m,\u001b[0m \u001b[0;36m30\u001b[0m\u001b[0;34m,\u001b[0m \u001b[0;36m34\u001b[0m\u001b[0;34m,\u001b[0m \u001b[0;36m5\u001b[0m\u001b[0;34m,\u001b[0m \u001b[0;36m9\u001b[0m\u001b[0;34m]\u001b[0m\u001b[0;34m\u001b[0m\u001b[0m\n\u001b[1;32m      2\u001b[0m \u001b[0mA\u001b[0m \u001b[0;34m=\u001b[0m \u001b[0mmap\u001b[0m\u001b[0;34m(\u001b[0m\u001b[0mstr\u001b[0m\u001b[0;34m,\u001b[0m \u001b[0mA\u001b[0m\u001b[0;34m)\u001b[0m\u001b[0;34m\u001b[0m\u001b[0m\n\u001b[0;32m----> 3\u001b[0;31m \u001b[0mkey\u001b[0m \u001b[0;34m=\u001b[0m \u001b[0mcmp_to_key\u001b[0m\u001b[0;34m(\u001b[0m\u001b[0;32mlambda\u001b[0m \u001b[0ma\u001b[0m\u001b[0;34m,\u001b[0m\u001b[0mb\u001b[0m\u001b[0;34m:\u001b[0m \u001b[0;36m1\u001b[0m \u001b[0;32mif\u001b[0m \u001b[0ma\u001b[0m\u001b[0;34m+\u001b[0m\u001b[0mb\u001b[0m \u001b[0;34m>=\u001b[0m \u001b[0mb\u001b[0m\u001b[0;34m+\u001b[0m\u001b[0ma\u001b[0m \u001b[0;32melse\u001b[0m \u001b[0;34m-\u001b[0m\u001b[0;36m1\u001b[0m\u001b[0;34m)\u001b[0m\u001b[0;34m\u001b[0m\u001b[0m\n\u001b[0m\u001b[1;32m      4\u001b[0m \u001b[0mres\u001b[0m \u001b[0;34m=\u001b[0m \u001b[0;34m''\u001b[0m\u001b[0;34m.\u001b[0m\u001b[0mjoin\u001b[0m\u001b[0;34m(\u001b[0m\u001b[0msorted\u001b[0m\u001b[0;34m(\u001b[0m\u001b[0mA\u001b[0m\u001b[0;34m,\u001b[0m \u001b[0mkey\u001b[0m\u001b[0;34m=\u001b[0m \u001b[0mkey\u001b[0m\u001b[0;34m,\u001b[0m \u001b[0mreverse\u001b[0m\u001b[0;34m=\u001b[0m\u001b[0;32mTrue\u001b[0m\u001b[0;34m)\u001b[0m\u001b[0;34m)\u001b[0m\u001b[0;34m\u001b[0m\u001b[0m\n\u001b[1;32m      5\u001b[0m \u001b[0;31m# Must left trim 0, apparently\u001b[0m\u001b[0;34m\u001b[0m\u001b[0;34m\u001b[0m\u001b[0m\n",
      "\u001b[0;31mNameError\u001b[0m: name 'cmp_to_key' is not defined"
     ]
    }
   ],
   "source": [
    "A = [3, 30, 34, 5, 9]\n",
    "A = map(str, A)\n",
    "key = cmp_to_key(lambda a,b: 1 if a+b >= b+a else -1)\n",
    "res = ''.join(sorted(A, key= key, reverse=True))\n",
    "# Must left trim 0, apparently\n",
    "res = res.lstrip('0')\n",
    "res"
   ]
  },
  {
   "cell_type": "code",
   "execution_count": 1,
   "metadata": {},
   "outputs": [
    {
     "name": "stdout",
     "output_type": "stream",
     "text": [
      "low 0\n",
      "pivot 5\n",
      "pi 1\n",
      "[1, 5, 8, 9, 10, 7]\n",
      "low 0\n",
      "low 2\n",
      "pivot 7\n",
      "pi 2\n",
      "[1, 5, 7, 9, 10, 8]\n",
      "low 2\n",
      "low 3\n",
      "pivot 8\n",
      "pi 3\n",
      "[1, 5, 7, 8, 10, 9]\n",
      "low 3\n",
      "low 4\n",
      "pivot 9\n",
      "pi 4\n",
      "[1, 5, 7, 8, 9, 10]\n",
      "low 4\n",
      "low 5\n",
      "Sorted array is:\n",
      "1\n",
      "5\n",
      "7\n",
      "8\n",
      "9\n",
      "10\n"
     ]
    }
   ],
   "source": [
    "# Python program for implementation of Quicksort Sort\n",
    " \n",
    "# This function takes last element as pivot, places\n",
    "# the pivot element at its correct position in sorted\n",
    "# array, and places all smaller (smaller than pivot)\n",
    "# to left of pivot and all greater elements to right\n",
    "# of pivot\n",
    "def partition(arr,low,high):\n",
    "    i = ( low-1 )         # index of smaller element\n",
    "    pivot = arr[high]     # pivot\n",
    "    print(\"pivot\",pivot)\n",
    "    for j in range(low , high):\n",
    " \n",
    "        # If current element is smaller than or\n",
    "        # equal to pivot\n",
    "        if   arr[j] <= pivot:\n",
    "         \n",
    "            # increment index of smaller element\n",
    "            i = i+1\n",
    "            arr[i],arr[j] = arr[j],arr[i]\n",
    " \n",
    "    arr[i+1],arr[high] = arr[high],arr[i+1]\n",
    "    return ( i+1 )\n",
    " \n",
    "# The main function that implements QuickSort\n",
    "# arr[] --> Array to be sorted,\n",
    "# low  --> Starting index,\n",
    "# high  --> Ending index\n",
    " \n",
    "# Function to do Quick sort\n",
    "def quickSort(arr,low,high):\n",
    "    print(\"low\",low)\n",
    "    if low < high:\n",
    " \n",
    "        # pi is partitioning index, arr[p] is now\n",
    "        # at right place\n",
    "        pi = partition(arr,low,high)\n",
    "        print(\"pi\",pi)\n",
    " \n",
    "        # Separately sort elements before\n",
    "        # partition and after partition\n",
    "#         print(arr[low:pi-1])\n",
    "        print(arr)\n",
    "        quickSort(arr, low, pi-1)\n",
    "        quickSort(arr, pi+1, high)\n",
    "        \n",
    "arr = [10, 7, 8, 9, 1, 5]\n",
    "n = len(arr)\n",
    "quickSort(arr,0,n-1)\n",
    "print (\"Sorted array is:\")\n",
    "for i in range(n):\n",
    "    print (\"%d\" %arr[i]),\n",
    " "
   ]
  },
  {
   "cell_type": "code",
   "execution_count": 97,
   "metadata": {},
   "outputs": [
    {
     "data": {
      "text/plain": [
       "False"
      ]
     },
     "execution_count": 97,
     "metadata": {},
     "output_type": "execute_result"
    }
   ],
   "source": [
    "arr = [10, 7, 8, 9, 1, 5]\n",
    "arr = list(map(str,arr))\n",
    "arr0 = arr[0]\n",
    "arr1 = arr[1]\n",
    "int(arr0+arr1)>int(arr1+arr0)"
   ]
  },
  {
   "cell_type": "code",
   "execution_count": 126,
   "metadata": {},
   "outputs": [
    {
     "name": "stdout",
     "output_type": "stream",
     "text": [
      "[9, 8, 7, 5, 1, 10]\n"
     ]
    }
   ],
   "source": [
    "\n",
    "#largest string from an array\n",
    "\n",
    "def partition(arr,low,high):\n",
    "    pivot = arr[high]\n",
    "    #print(\"pivot\",pivot)\n",
    "    i = low-1\n",
    "    str_pivot=str(pivot)\n",
    "    for j in range(low,high):\n",
    "        curr = str(arr[j])\n",
    "        if (str_pivot+curr)<(curr+str_pivot):\n",
    "            #print(\"Arr[j]\",arr[j])\n",
    "            i +=1\n",
    "            arr[i],arr[j] = arr[j],arr[i]\n",
    "    #print(\"Arr\",arr)\n",
    "    arr[i+1],arr[high] = arr[high],arr[i+1]\n",
    "    return i+1\n",
    "    \n",
    "def quicksort(arr,low,high):\n",
    "    #print(\"hello\")\n",
    "    if low < high:\n",
    "        pi = partition(arr,low,high)\n",
    "#         print(\"pi\",pi)\n",
    "#         print(arr)\n",
    "        quicksort(arr,low,pi-1)\n",
    "        quicksort(arr,pi+1,high)\n",
    "        \n",
    "arr = [1, 7, 8, 9, 10, 5]\n",
    "low = 0\n",
    "n = len(arr)\n",
    "quicksort(arr,low,n-1)\n",
    "print(arr)\n",
    "# print (\"Sorted array is:\")\n",
    "# for i in range(n):\n",
    "#     print (\"%d\" %arr[i]),"
   ]
  },
  {
   "cell_type": "code",
   "execution_count": 134,
   "metadata": {},
   "outputs": [
    {
     "name": "stdout",
     "output_type": "stream",
     "text": [
      "2\n"
     ]
    }
   ],
   "source": [
    "arr = [2,5,4,1]\n",
    "maxdiff = -1\n",
    "for i in range(0,len(arr)):\n",
    "    j=len(arr)-1\n",
    "    while j>i:        \n",
    "        if arr[i]<arr[j] and maxdiff<j-i:\n",
    "            maxdiff = j-i\n",
    "        j -=1\n",
    "print(maxdiff)"
   ]
  },
  {
   "cell_type": "code",
   "execution_count": 135,
   "metadata": {
    "collapsed": true
   },
   "outputs": [],
   "source": [
    "#find difference such that a[i]<a[j] and j-i is max\n",
    "class Solution:\n",
    "    # @param A : tuple of integers\n",
    "    # @return an integer\n",
    "    def maximumGap(self, A):\n",
    "        n = len(A)\n",
    "        if n == 1:\n",
    "            return 0\n",
    "        left = [0]*n; left[0] = A[0]\n",
    "        for i in range(1, n):\n",
    "            left[i] = min(left[i-1], A[i])\n",
    "        right = [0]*n; right[-1] = A[-1]\n",
    "        for i in range(n-2, -1, -1):\n",
    "            right[i] = max(right[i+1], A[i])\n",
    "        i = 0; j = 0; ans = -1\n",
    "        while i < n and j < n:\n",
    "            if right[j] >= left[i]:\n",
    "                ans = max(ans, j-i)\n",
    "                j += 1\n",
    "            else:\n",
    "                i += 1\n",
    "        return ans"
   ]
  },
  {
   "cell_type": "code",
   "execution_count": 138,
   "metadata": {},
   "outputs": [
    {
     "name": "stdout",
     "output_type": "stream",
     "text": [
      "[[1], [1, 1], [1, 2, 1], [1, 3, 3, 1], [1, 4, 6, 4, 1]]\n"
     ]
    }
   ],
   "source": [
    "A = 5\n",
    "if A <= 0:\n",
    "    print(0)\n",
    "result = [[1]]\n",
    "for r in range(1, A):\n",
    "    row = [1]\n",
    "    for i in range(1,r):\n",
    "        row.append(result[r-1][i-1] + result[r-1][i])\n",
    "    row.append(1)\n",
    "    result.append(row)\n",
    "print(result)"
   ]
  },
  {
   "cell_type": "code",
   "execution_count": 139,
   "metadata": {},
   "outputs": [
    {
     "data": {
      "text/plain": [
       "2"
      ]
     },
     "execution_count": 139,
     "metadata": {},
     "output_type": "execute_result"
    }
   ],
   "source": [
    "ARR = [[1,2],[3,4]]\n",
    "len(ARR)"
   ]
  },
  {
   "cell_type": "code",
   "execution_count": 150,
   "metadata": {},
   "outputs": [
    {
     "name": "stdout",
     "output_type": "stream",
     "text": [
      "x old 12\n",
      "num 0\n",
      "x&1 0\n",
      "x new 6\n",
      "x old 6\n",
      "num 0\n",
      "x&1 0\n",
      "x new 3\n",
      "x old 3\n",
      "num 1\n",
      "x&1 1\n",
      "x new 1\n",
      "x old 1\n",
      "num 0\n",
      "x&1 1\n",
      "x new 0\n"
     ]
    },
    {
     "data": {
      "text/plain": [
       "0"
      ]
     },
     "execution_count": 150,
     "metadata": {},
     "output_type": "execute_result"
    }
   ],
   "source": [
    "def count_bits(x):\n",
    "    num=0\n",
    "    while x:\n",
    "        print(\"x old\",x)\n",
    "        num ^=x & 1\n",
    "        print(\"num\",num)\n",
    "        print(\"x&1\",x&1)\n",
    "        x >>=1\n",
    "        print(\"x new\",x)        \n",
    "    return num\n",
    "count_bits(12)"
   ]
  },
  {
   "cell_type": "code",
   "execution_count": 48,
   "metadata": {},
   "outputs": [
    {
     "name": "stdout",
     "output_type": "stream",
     "text": [
      "[1, 0, 0, 1, 0]\n",
      "18\n",
      "[1, 0, 0, 1, 0]\n"
     ]
    }
   ],
   "source": [
    "a = []\n",
    "x = 10010\n",
    "\n",
    "x= str(x)\n",
    "i = len(x)\n",
    "x1 = [int(i) for i in x]\n",
    "print(x1)\n",
    "n=0\n",
    "for i in range(len(x)-1,-1,-1):\n",
    "    #print(i)\n",
    "    if x[i]!=0:\n",
    "        n +=x1[i]*2**(len(x)-i-1)\n",
    "    #print(n)\n",
    "print(n)\n",
    "    \n",
    "n=[]    \n",
    "x = 18\n",
    "while x:\n",
    "    n.append(x&1)\n",
    "    x >>=1\n",
    "    \n",
    "print(n[::-1])\n",
    "    \n",
    "# a = a[::-1] #reverse a list\n",
    "# print(a)"
   ]
  },
  {
   "cell_type": "code",
   "execution_count": 151,
   "metadata": {},
   "outputs": [
    {
     "ename": "SyntaxError",
     "evalue": "can't assign to literal (<ipython-input-151-645742cfe196>, line 1)",
     "output_type": "error",
     "traceback": [
      "\u001b[0;36m  File \u001b[0;32m\"<ipython-input-151-645742cfe196>\"\u001b[0;36m, line \u001b[0;32m1\u001b[0m\n\u001b[0;31m    110 = 2^2. + 2^1\u001b[0m\n\u001b[0m                    ^\u001b[0m\n\u001b[0;31mSyntaxError\u001b[0m\u001b[0;31m:\u001b[0m can't assign to literal\n"
     ]
    }
   ],
   "source": [
    "110 = 2^2. + 2^1\n",
    "1100 = 2^2 + 2^3"
   ]
  },
  {
   "cell_type": "code",
   "execution_count": 6,
   "metadata": {},
   "outputs": [
    {
     "data": {
      "text/plain": [
       "['a', 'b', 'c', 'd', 'e', 'f']"
      ]
     },
     "execution_count": 6,
     "metadata": {},
     "output_type": "execute_result"
    }
   ],
   "source": [
    "M = [['a','b','c'],['d','e','f']]\n",
    "[x for row in M for x in row] "
   ]
  },
  {
   "cell_type": "code",
   "execution_count": 111,
   "metadata": {},
   "outputs": [
    {
     "name": "stdout",
     "output_type": "stream",
     "text": [
      "[[ 0.  2.  1.]\n",
      " [ 2.  0.  1.]\n",
      " [ 1.  1.  0.]]\n",
      "0\n",
      "2\n",
      "2\n",
      "0\n",
      "0\n"
     ]
    }
   ],
   "source": [
    "import numpy as np\n",
    "a = [2,4,6]\n",
    "mat = np.zeros((len(a),len(a)))\n",
    "for i in range(0,mat.shape[0]):\n",
    "    for j in range(0,mat.shape[1]):\n",
    "        if i !=j:\n",
    "            x = \"{0:{fill}8b}\".format(a[i],fill='0')\n",
    "            y = \"{0:{fill}8b}\".format(a[j],fill='0')\n",
    "            mat[i][j] = mat[j][i] = sum(p!=q for p,q in zip(x,y))\n",
    "            \n",
    "print(mat)\n",
    "mask = 1\n",
    "for i in range(5):\n",
    "    y = sum(1 for x in A if x&mask)\n",
    "    print(y)\n",
    "    mask <<=1"
   ]
  },
  {
   "cell_type": "code",
   "execution_count": 69,
   "metadata": {},
   "outputs": [
    {
     "data": {
      "text/plain": [
       "0"
      ]
     },
     "execution_count": 69,
     "metadata": {},
     "output_type": "execute_result"
    }
   ],
   "source": [
    "i = \"{0:b}\".format(12)\n",
    "j = \"{0:b}\".format(12)\n",
    "sum(x!=y for x,y in zip(i,j))"
   ]
  },
  {
   "cell_type": "code",
   "execution_count": 66,
   "metadata": {},
   "outputs": [
    {
     "data": {
      "text/plain": [
       "26"
      ]
     },
     "execution_count": 66,
     "metadata": {},
     "output_type": "execute_result"
    }
   ],
   "source": [
    "int(\"{0:b}\".format(12))  ^ int(\"{0:b}\".format(14))"
   ]
  },
  {
   "cell_type": "code",
   "execution_count": 116,
   "metadata": {},
   "outputs": [
    {
     "data": {
      "text/plain": [
       "702"
      ]
     },
     "execution_count": 116,
     "metadata": {},
     "output_type": "execute_result"
    }
   ],
   "source": [
    "#excel to number\n",
    "T = dict(zip('ABCDEFGHIJKLMNOPQRSTUVWXYZ',range(1,27)))\n",
    "string = 'ZZ'\n",
    "sum(T[ch]*26**i for i,ch in enumerate(string[::-1]))"
   ]
  },
  {
   "cell_type": "code",
   "execution_count": 144,
   "metadata": {},
   "outputs": [
    {
     "name": "stdout",
     "output_type": "stream",
     "text": [
      "inside\n",
      "1\n",
      "inside\n"
     ]
    },
    {
     "data": {
      "text/plain": [
       "'AB'"
      ]
     },
     "execution_count": 144,
     "metadata": {},
     "output_type": "execute_result"
    }
   ],
   "source": [
    "#number to excel character\n",
    "T = dict(zip(range(1,27),'ABCDEFGHIJKLMNOPQRSTUVWXYZ'))\n",
    "num = 28\n",
    "a=''\n",
    "while num >=1:\n",
    "    print(\"inside\")\n",
    "    if num==1:\n",
    "        a +=T[1]\n",
    "        break\n",
    "    elif num%26!=0:\n",
    "        a +=T[num%26]\n",
    "    elif num%26==0:\n",
    "        a +=T[num//26]\n",
    "    num //=26\n",
    "    print(num)\n",
    "        # a.append(T[r] for r in num%26 if num%26!=0)\n",
    "# a[::-1]\n",
    "a[::-1]"
   ]
  },
  {
   "cell_type": "code",
   "execution_count": 151,
   "metadata": {},
   "outputs": [
    {
     "data": {
      "text/plain": [
       "[2, 1, 8, 3, 9]"
      ]
     },
     "execution_count": 151,
     "metadata": {},
     "output_type": "execute_result"
    }
   ],
   "source": [
    "a = str(93812)\n",
    "a =[int(x) for x in a]\n",
    "a[::-1]"
   ]
  },
  {
   "cell_type": "code",
   "execution_count": 162,
   "metadata": {},
   "outputs": [
    {
     "name": "stdout",
     "output_type": "stream",
     "text": [
      "0 2\n",
      "2 0\n"
     ]
    },
    {
     "data": {
      "text/plain": [
       "[2, 1, 0]"
      ]
     },
     "execution_count": 162,
     "metadata": {},
     "output_type": "execute_result"
    }
   ],
   "source": [
    "a = [2,1,0]\n",
    "#print(a[a[0]])\n",
    "for i in range(len(a)):\n",
    "    if i!=a[i]:\n",
    "        print(a[a[i]],a[i])\n",
    "        a[a[i]],a[a[i]]=a[i],a[a[i]]\n",
    "a"
   ]
  },
  {
   "cell_type": "code",
   "execution_count": 165,
   "metadata": {},
   "outputs": [
    {
     "data": {
      "text/plain": [
       "620448401733239439360000"
      ]
     },
     "execution_count": 165,
     "metadata": {},
     "output_type": "execute_result"
    }
   ],
   "source": [
    "np.math.factorial(24)"
   ]
  },
  {
   "cell_type": "code",
   "execution_count": 195,
   "metadata": {},
   "outputs": [
    {
     "name": "stdout",
     "output_type": "stream",
     "text": [
      "abcde\n",
      "max 3\n",
      "abced\n"
     ]
    }
   ],
   "source": [
    "a = ['a','c','b','d','e']\n",
    "string = \"\".join(sorted(a))\n",
    "print(string)\n",
    "max = len(string)-2\n",
    "\n",
    "for p in range(len(string)-1,0,-1):\n",
    "    if string[p] > string[p-1]:\n",
    "        if p>max:\n",
    "            max = p-1\n",
    "print(\"max\",max)\n",
    "max_y=max+1\n",
    "for q in range(len(string)-1,p,-1):\n",
    "    if q > max_y:\n",
    "        max_y=q\n",
    "\n",
    "lst = list(string)\n",
    "lst[max],lst[max_y]=lst[max_y],lst[max]\n",
    "\n",
    "print (''.join(lst))\n",
    "\n",
    "        \n",
    "\n",
    "        "
   ]
  },
  {
   "cell_type": "code",
   "execution_count": 286,
   "metadata": {},
   "outputs": [
    {
     "name": "stdout",
     "output_type": "stream",
     "text": [
      "['a', 'a', 'b']\n",
      "1\n"
     ]
    }
   ],
   "source": [
    "def lexicographically_next_permutation(arr,ax):\n",
    "    arr = list(arr)\n",
    "    ax = [x for x in str(ax)]\n",
    "    count = 1\n",
    "    while True:\n",
    "        i = len(arr)-2\n",
    "        #print(\"len\",len(arr))\n",
    "\n",
    "        while not (i <0 or arr[i] < arr[i+1]):\n",
    "            i -=1\n",
    "\n",
    "        if i<0:\n",
    "            break\n",
    "\n",
    "        j = len(arr) -1\n",
    "        while not (arr[j] > arr[i]):\n",
    "            j -=1\n",
    "        arr[i],arr[j] = arr[j],arr[i]\n",
    "        arr[i+1:] = reversed(arr[i+1:])\n",
    "        count +=1\n",
    "        print(\"arr\",\"\".join(arr))\n",
    "        \n",
    "        if arr == ax:\n",
    "            print(count)\n",
    "\n",
    "#     return True\n",
    "#############################################################################\n",
    " \n",
    "ax = 'aab'\n",
    "a = [x for x in str(ax)]\n",
    "a1 = sorted(a)\n",
    "print(a)\n",
    "if a == a1:\n",
    "    print(1)\n",
    "else:\n",
    "    lexicographically_next_permutation(a1,ax)\n",
    "# arr=list(a)\n",
    "# lexicographically_next_permutation(arr)\n",
    "# if __name__ == \"__main__\":\n",
    "#     li = 'cabd'\n",
    "#     print (li)    # process\n",
    "#     while lexicographically_next_permutation(li):\n",
    "#         print (li)   # process"
   ]
  },
  {
   "cell_type": "code",
   "execution_count": 303,
   "metadata": {},
   "outputs": [
    {
     "name": "stdout",
     "output_type": "stream",
     "text": [
      "low 0\n",
      "high 11\n",
      "mid 5\n",
      "yes\n",
      "low 0\n",
      "high 4\n",
      "mid 2\n",
      "low 3\n",
      "high 4\n",
      "mid 3\n",
      "low 4\n",
      "high 4\n",
      "mid 4\n",
      "yes\n",
      "low 0\n",
      "high 11\n",
      "mid 5\n",
      "yes\n",
      "low 6\n",
      "high 11\n",
      "mid 8\n",
      "yes\n",
      "low 9\n",
      "high 11\n",
      "mid 10\n",
      "low 9\n",
      "high 9\n",
      "mid 9\n",
      "lastIndex 8\n",
      "firstIndex 4\n",
      "5\n"
     ]
    }
   ],
   "source": [
    "#count of occurences of an element in sorted array\n",
    "def BinSearch(arr,x,search):\n",
    "    low = 0\n",
    "    high = len(arr)-1\n",
    "    #print(\"high\",high)\n",
    "    result = -1\n",
    "    while low<=high:\n",
    "        print(\"low\",low)\n",
    "        print(\"high\",high)\n",
    "        mid = (low+high)//2\n",
    "        print(\"mid\",mid)\n",
    "        if x == arr[mid]:\n",
    "            result = mid\n",
    "            print(\"yes\")\n",
    "            if search:\n",
    "                high = mid -1\n",
    "            else:\n",
    "                low = mid +1\n",
    "        elif x > arr[mid]:\n",
    "            low = mid +1\n",
    "        else:\n",
    "            high = mid -1\n",
    "    return result\n",
    "                \n",
    "    \n",
    "a = [1,1,3,3,5,5,5,5,5,9,9,11]\n",
    "firstIndex = BinSearch(a,5,True)\n",
    "lastIndex = BinSearch(a,5,False)\n",
    "print(\"lastIndex\",lastIndex)\n",
    "print(\"firstIndex\",firstIndex)\n",
    "print((lastIndex-firstIndex)+1)"
   ]
  },
  {
   "cell_type": "code",
   "execution_count": 305,
   "metadata": {},
   "outputs": [
    {
     "data": {
      "text/plain": [
       "2"
      ]
     },
     "execution_count": 305,
     "metadata": {},
     "output_type": "execute_result"
    }
   ],
   "source": [
    "#find how many times array was rotated / index of smallest element in array\n",
    "def Rotate(arr):\n",
    "    low = 0\n",
    "    high = len(arr) - 1\n",
    "    while low<=high:\n",
    "        if arr[low] < arr[high]:\n",
    "            return low\n",
    "        else:\n",
    "            mid = (low+high)//2\n",
    "            if arr[mid] <= arr[mid+1] and arr[mid] <=arr[mid-1]:\n",
    "                return mid\n",
    "            elif arr[mid] < arr[high]:\n",
    "                high = mid -1\n",
    "            else:\n",
    "                low = mid +1\n",
    "            \n",
    "    return -1\n",
    "\n",
    "a = [7,8,1,2,3,4,5,6]\n",
    "i = Rotate(a)\n",
    "i\n",
    "            "
   ]
  },
  {
   "cell_type": "code",
   "execution_count": 322,
   "metadata": {},
   "outputs": [
    {
     "data": {
      "text/plain": [
       "4"
      ]
     },
     "execution_count": 322,
     "metadata": {},
     "output_type": "execute_result"
    }
   ],
   "source": [
    "#find closest square root of a given number using binary search\n",
    "def search(A):\n",
    "    low = 0\n",
    "    high = A\n",
    "    while low <=high:\n",
    "        mid = (low+high)//2\n",
    "        if mid*mid <=A and (mid+1)*(mid+1) > A:\n",
    "            return mid\n",
    "        elif mid*mid >A:\n",
    "            high = mid -1\n",
    "        else:\n",
    "            low = mid +1\n",
    "    return 0\n",
    "i = search(17)\n",
    "i    "
   ]
  },
  {
   "cell_type": "code",
   "execution_count": 316,
   "metadata": {},
   "outputs": [
    {
     "name": "stdout",
     "output_type": "stream",
     "text": [
      "3\n",
      "1\n",
      "1\n",
      "True\n",
      "2\n",
      "1\n",
      "1\n",
      "yeah\n",
      "2\n",
      "1\n",
      "1\n",
      "yeah\n"
     ]
    },
    {
     "data": {
      "text/plain": [
       "5"
      ]
     },
     "execution_count": 316,
     "metadata": {},
     "output_type": "execute_result"
    }
   ],
   "source": [
    "from bisect import bisect_right as upper_bound\n",
    "\n",
    "def median(A):\n",
    "    min_x = min(A[0])\n",
    "    max_x = max(A[-1])"
   ]
  },
  {
   "cell_type": "code",
   "execution_count": 25,
   "metadata": {},
   "outputs": [
    {
     "name": "stdout",
     "output_type": "stream",
     "text": [
      "3\n",
      "1\n",
      "1\n",
      "2\n",
      "1\n",
      "1\n",
      "2\n",
      "1\n",
      "1\n",
      "5\n"
     ]
    }
   ],
   "source": [
    "#median of matrix sorted LtoR and TtoB\n",
    "from bisect import bisect_right as upper_bound\n",
    "A = [[1,3,5],[2,6,9],[3,6,9]]\n",
    "min_v = min(A[0])\n",
    "max_v = max(A[-1])\n",
    "val = (1 + len(A)*len(A[0]))//2\n",
    "\n",
    "while min_v<max_v:\n",
    "    count = 0\n",
    "    mid = (min_v+max_v)//2\n",
    "    for i in range(len(A)):\n",
    "        indx = upper_bound(A[i],mid)\n",
    "        print(indx)\n",
    "        count +=indx\n",
    "        \n",
    "    if count <val:\n",
    "        min_v = mid +1\n",
    "    else:\n",
    "        max_v = mid\n",
    "    \n",
    "print(min_v)"
   ]
  },
  {
   "cell_type": "code",
   "execution_count": 12,
   "metadata": {},
   "outputs": [
    {
     "data": {
      "text/plain": [
       "4"
      ]
     },
     "execution_count": 12,
     "metadata": {},
     "output_type": "execute_result"
    }
   ],
   "source": [
    "A = [[1,3,5],[2,6,9],[3,6,9],[10,11,12]]\n",
    "len(A)"
   ]
  },
  {
   "cell_type": "code",
   "execution_count": 13,
   "metadata": {},
   "outputs": [
    {
     "data": {
      "text/plain": [
       "1"
      ]
     },
     "execution_count": 13,
     "metadata": {},
     "output_type": "execute_result"
    }
   ],
   "source": [
    "n = 2 >>1\n",
    "1%2"
   ]
  },
  {
   "cell_type": "code",
   "execution_count": null,
   "metadata": {
    "collapsed": true
   },
   "outputs": [],
   "source": [
    "#power\n",
    "class Solution:\n",
    "    # @param x : integer\n",
    "    # @param n : integer\n",
    "    # @param d : integer\n",
    "    # @return an integer\n",
    "    def pow(self, x, n, d):\n",
    "        if n == 0:\n",
    "            return 1%d\n",
    "        temp = self.pow(x, n/2, d)\n",
    "        return (temp*temp)%d if n%2==0 else (x*temp*temp)%d\n"
   ]
  },
  {
   "cell_type": "code",
   "execution_count": null,
   "metadata": {
    "collapsed": true
   },
   "outputs": [],
   "source": [
    "#median of array\n",
    "class Solution:\n",
    "    # @param A : tuple of integers\n",
    "    # @param B : tuple of integers\n",
    "    # @return a double\n",
    "    def findMedianSortedArrays(self, A, B):\n",
    "        m = len(A)\n",
    "        n = len(B)\n",
    "        if m > n:\n",
    "            n,m = m,n\n",
    "            A,B = B,A\n",
    "        if m == 0:\n",
    "            if n == 0:\n",
    "                return 0\n",
    "            if n%2:\n",
    "                return B[n/2]\n",
    "            else:\n",
    "                return (B[n/2]+B[n/2-1])/2.0\n",
    "        low = 0\n",
    "        high = m\n",
    "        while low <= high:\n",
    "            i = (low+high)/2\n",
    "            j = (m+n+1)/2-i\n",
    "            if (j == 0 or i == m or B[j - 1] <= A[i]) and (i == 0 or j == n or A[i-1] <= B[j]):\n",
    "                if (m+n)%2:\n",
    "                    if i == 0:\n",
    "                        return B[j-1]\n",
    "                    elif j == 0:\n",
    "                        return A[i-1]\n",
    "                    return max(A[i-1],B[j-1])\n",
    "                else:\n",
    "                    if i == 0:\n",
    "                        return (B[j-1] + min(A[i],B[j]))/2.0\n",
    "                    if j == 0:\n",
    "                    \treturn (A[i-1] + min(A[i],B[j]))/2.0\n",
    "                    if i == m:\n",
    "                    \treturn (max(A[i-1],B[j-1]) + B[j])/2.0\n",
    "                    if j == n:\n",
    "                    \treturn (max(A[i-1],B[j-1]) + A[i])/2.0\n",
    "                    return (max(A[i-1],B[j-1]) + min(A[i],B[j]))/2.0\n",
    "            elif (j == 0 or i == m or B[j - 1] > A[i]):\n",
    "                low = i+1\n",
    "            elif (i == 0 or j == n or A[i-1] > B[j]):\n",
    "                high = i-1\n",
    "        return -1"
   ]
  },
  {
   "cell_type": "code",
   "execution_count": 5,
   "metadata": {},
   "outputs": [
    {
     "name": "stdout",
     "output_type": "stream",
     "text": [
      "4\n"
     ]
    }
   ],
   "source": [
    "print (25%7)"
   ]
  },
  {
   "cell_type": "code",
   "execution_count": 8,
   "metadata": {},
   "outputs": [
    {
     "data": {
      "text/plain": [
       "4"
      ]
     },
     "execution_count": 8,
     "metadata": {},
     "output_type": "execute_result"
    }
   ],
   "source": [
    "#modular arithmetic\n",
    "def mod(x,n,m):\n",
    "    if n==0:\n",
    "        return 1\n",
    "    elif n%2==0:\n",
    "        y = mod(x,n/2,m)\n",
    "        return (y*y)%m\n",
    "    else:\n",
    "        return (x * mod(x,n-1,m))%m\n",
    "a = mod(5,2,7)\n",
    "a"
   ]
  },
  {
   "cell_type": "code",
   "execution_count": 33,
   "metadata": {},
   "outputs": [
    {
     "data": {
      "text/plain": [
       "True"
      ]
     },
     "execution_count": 33,
     "metadata": {},
     "output_type": "execute_result"
    }
   ],
   "source": [
    "##STRINGS###\n",
    "string = \"A man, a plan, a canal: Panama\"\n",
    "a = ''.join(e for e in string if e.isalpha())\n",
    "#re.sub('[^a-zA-Z+]','',a)\n",
    "a = a.lower()\n",
    "a\n",
    "a1 = a[::-1]\n",
    "a==a1"
   ]
  },
  {
   "cell_type": "code",
   "execution_count": 54,
   "metadata": {},
   "outputs": [
    {
     "data": {
      "text/plain": [
       "'abcd'"
      ]
     },
     "execution_count": 54,
     "metadata": {},
     "output_type": "execute_result"
    }
   ],
   "source": [
    "a = [\"abcdefgh\",\"abcdfgh\"]\n",
    "a.sort()\n",
    "sol=[]\n",
    "a1 = [list(a[0]),list(a[len(a)-1])]\n",
    "for i in range(min(len(a1[0]),len(a1[1]))):\n",
    "    if a1[0][i] == a1[1][i]:\n",
    "        sol.append(a1[0][i])        \n",
    "\"\".join(sol)"
   ]
  },
  {
   "cell_type": "code",
   "execution_count": 72,
   "metadata": {},
   "outputs": [
    {
     "data": {
      "text/plain": [
       "0"
      ]
     },
     "execution_count": 72,
     "metadata": {},
     "output_type": "execute_result"
    }
   ],
   "source": [
    "string = [\"abcdeghf\"]\n",
    "a = \"the%blue%panda\"\n",
    "a = a.split('%')\n",
    "a\n"
   ]
  },
  {
   "cell_type": "code",
   "execution_count": 21,
   "metadata": {
    "scrolled": true
   },
   "outputs": [
    {
     "name": "stdout",
     "output_type": "stream",
     "text": [
      "Size 6\n",
      "16\n",
      "4\n",
      "2\n",
      "19\n",
      "10\n",
      "1\n",
      "41\n",
      "21\n",
      "192\n",
      "10\n",
      "1\n"
     ]
    },
    {
     "ename": "NameError",
     "evalue": "name 'llist' is not defined",
     "output_type": "error",
     "traceback": [
      "\u001b[0;31m---------------------------------------------------------------------------\u001b[0m",
      "\u001b[0;31mNameError\u001b[0m                                 Traceback (most recent call last)",
      "\u001b[0;32m<ipython-input-21-1ddb0d5cb93f>\u001b[0m in \u001b[0;36m<module>\u001b[0;34m()\u001b[0m\n\u001b[1;32m     86\u001b[0m \u001b[0mMylist2\u001b[0m\u001b[0;34m.\u001b[0m\u001b[0mprintlist\u001b[0m\u001b[0;34m(\u001b[0m\u001b[0;34m)\u001b[0m\u001b[0;34m\u001b[0m\u001b[0m\n\u001b[1;32m     87\u001b[0m \u001b[0;34m\u001b[0m\u001b[0m\n\u001b[0;32m---> 88\u001b[0;31m \u001b[0moutput\u001b[0m \u001b[0;34m=\u001b[0m \u001b[0mMylist\u001b[0m\u001b[0;34m.\u001b[0m\u001b[0mFindmatch\u001b[0m\u001b[0;34m(\u001b[0m\u001b[0mMylist2\u001b[0m\u001b[0;34m)\u001b[0m\u001b[0;34m\u001b[0m\u001b[0m\n\u001b[0m\u001b[1;32m     89\u001b[0m \u001b[0mprint\u001b[0m\u001b[0;34m(\u001b[0m\u001b[0moutput\u001b[0m\u001b[0;34m)\u001b[0m\u001b[0;34m\u001b[0m\u001b[0m\n\u001b[1;32m     90\u001b[0m \u001b[0;31m## while True:\u001b[0m\u001b[0;34m\u001b[0m\u001b[0;34m\u001b[0m\u001b[0m\n",
      "\u001b[0;32m<ipython-input-21-1ddb0d5cb93f>\u001b[0m in \u001b[0;36mFindmatch\u001b[0;34m(self, B)\u001b[0m\n\u001b[1;32m     40\u001b[0m             \u001b[0mllistA\u001b[0m \u001b[0;34m=\u001b[0m \u001b[0mllistA\u001b[0m\u001b[0;34m.\u001b[0m\u001b[0mnext\u001b[0m\u001b[0;34m\u001b[0m\u001b[0m\n\u001b[1;32m     41\u001b[0m \u001b[0;34m\u001b[0m\u001b[0m\n\u001b[0;32m---> 42\u001b[0;31m         \u001b[0;32mwhile\u001b[0m \u001b[0mllist\u001b[0m\u001b[0;34m.\u001b[0m\u001b[0mB\u001b[0m \u001b[0;32mis\u001b[0m \u001b[0;32mnot\u001b[0m \u001b[0;32mNone\u001b[0m\u001b[0;34m:\u001b[0m\u001b[0;34m\u001b[0m\u001b[0m\n\u001b[0m\u001b[1;32m     43\u001b[0m             \u001b[0mcountB\u001b[0m \u001b[0;34m+=\u001b[0m\u001b[0;36m1\u001b[0m\u001b[0;34m\u001b[0m\u001b[0m\n\u001b[1;32m     44\u001b[0m             \u001b[0mllistB\u001b[0m \u001b[0;34m=\u001b[0m \u001b[0mllistB\u001b[0m\u001b[0;34m.\u001b[0m\u001b[0mnext\u001b[0m\u001b[0;34m\u001b[0m\u001b[0m\n",
      "\u001b[0;31mNameError\u001b[0m: name 'llist' is not defined"
     ]
    }
   ],
   "source": [
    "#LINKED LIST\n",
    "class Node:\n",
    "    def __init__(self):\n",
    "        self.data = None\n",
    "        self.next = None\n",
    "    \n",
    "class LinkedList:\n",
    "    def __init__(self):\n",
    "        self.head= None\n",
    "    def insert(self,data):\n",
    "        #data = input(\"Add an element\")\n",
    "        node = Node()\n",
    "        node.data = data\n",
    "        node.next = self.head\n",
    "        self.head = node\n",
    "    def printlist(self):\n",
    "        print_list = self.head\n",
    "        while print_list:\n",
    "            print(print_list.data)\n",
    "            print_list = print_list.next\n",
    "    def size(self):\n",
    "        count = 0\n",
    "        size_list = self.head\n",
    "        while size_list:\n",
    "            count +=1\n",
    "            size_list = size_list.next\n",
    "        print(\"Size\",count)\n",
    "        \n",
    "    def Findmatch(self, B):\n",
    "        llistA = self.head\n",
    "        llistB = B.head\n",
    "        countA = 0\n",
    "        countB = 0\n",
    "\n",
    "        headA = llistA\n",
    "        headB = llistB\n",
    "\n",
    "        while llistA is not None:\n",
    "            countA +=1\n",
    "            llistA = llistA.next\n",
    "\n",
    "        while llist.B is not None:\n",
    "            countB +=1\n",
    "            llistB = llistB.next\n",
    "\n",
    "        llistA = headA\n",
    "        llistB = headB\n",
    "        if countA > countB:\n",
    "    #         diff = A-B\n",
    "            for i in range(0,countA-countB):\n",
    "                llistA = llistA.next\n",
    "        else:\n",
    "    #         diff = B-A\n",
    "            for i in range(0,countB-countA):\n",
    "                llistB = llistB.next\n",
    "\n",
    "        while i in range(min(countA,countB)):\n",
    "            if llistA is llistB:\n",
    "                return A\n",
    "            llistA = llistA.next\n",
    "            llistB = llistB.next\n",
    "\n",
    "        return None\n",
    "\n",
    "\n",
    "\n",
    "        \n",
    "Mylist = LinkedList()\n",
    "\n",
    "Mylist.insert(1)\n",
    "Mylist.insert(10)\n",
    "Mylist.insert(19)\n",
    "Mylist.insert(2)\n",
    "Mylist.insert(4)\n",
    "Mylist.insert(16)\n",
    "\n",
    "Mylist2 = LinkedList()\n",
    "Mylist2.insert(1)\n",
    "Mylist2.insert(10)\n",
    "Mylist2.insert(192)\n",
    "Mylist2.insert(21)\n",
    "Mylist2.insert(41)\n",
    "Mylist.size()\n",
    "\n",
    "Mylist.printlist()\n",
    "Mylist2.printlist()\n",
    "\n",
    "output = Mylist.Findmatch(Mylist2)\n",
    "print(output)\n",
    "## while True:\n",
    "#     print(\"1. add an element to list\")\n",
    "#     print(\"2. print the current list\")\n",
    "#     print(\"3. display size of the list\")\n",
    "#     user_input = int(input())\n",
    "#     if user_input==1:\n",
    "#         Mylist.insert(1)\n",
    "#     elif user_input==2:\n",
    "#         Mylist.printlist()\n",
    "#     elif user_input==3:\n",
    "#         Mylist.size()\n",
    "        "
   ]
  },
  {
   "cell_type": "code",
   "execution_count": 20,
   "metadata": {},
   "outputs": [
    {
     "ename": "SyntaxError",
     "evalue": "invalid syntax (<ipython-input-20-06b1144f30a4>, line 7)",
     "output_type": "error",
     "traceback": [
      "\u001b[0;36m  File \u001b[0;32m\"<ipython-input-20-06b1144f30a4>\"\u001b[0;36m, line \u001b[0;32m7\u001b[0m\n\u001b[0;31m    def Findmatch(Node A, Node B):\u001b[0m\n\u001b[0m                       ^\u001b[0m\n\u001b[0;31mSyntaxError\u001b[0m\u001b[0;31m:\u001b[0m invalid syntax\n"
     ]
    }
   ],
   "source": [
    "# Mylist.printlist()\n",
    "# Mylist2.printlist()\n",
    "\n",
    "# class Solution:\n",
    "#     def __init__(self):\n",
    "#         self.head =None\n",
    "def Findmatch(Node A, Node B):\n",
    "    Node CA = A\n",
    "    Node CB = B\n",
    "    countA = 0\n",
    "    countB = 0\n",
    "\n",
    "    headA = A\n",
    "    headB = B\n",
    "\n",
    "    while A is not None:\n",
    "        countA +=1\n",
    "        A = A.next\n",
    "\n",
    "    while B is not None:\n",
    "        countB +=1\n",
    "        B = B.next\n",
    "\n",
    "    A = headA\n",
    "    B = headB\n",
    "    if countA > countB:\n",
    "#         diff = A-B\n",
    "        for i in range(0,countA-countB):\n",
    "            A = A.next\n",
    "    else:\n",
    "#         diff = B-A\n",
    "        for i in range(0,countB-countA):\n",
    "            B = B.next\n",
    "\n",
    "    while i in range(min(countA,countB)):\n",
    "        if A is B:\n",
    "            return A\n",
    "        A = A.next\n",
    "        B = B.next\n",
    "\n",
    "    return None\n",
    "    \n",
    "sol = Solution()\n",
    "output = sol.Findmatch(Mylist,Mylist2)\n",
    "print(output)"
   ]
  },
  {
   "cell_type": "code",
   "execution_count": 1,
   "metadata": {
    "scrolled": false
   },
   "outputs": [
    {
     "name": "stdout",
     "output_type": "stream",
     "text": [
      "counta 6\n",
      "counta 5\n",
      "9\n",
      "8\n"
     ]
    }
   ],
   "source": [
    "class Node(object):\n",
    "    def __init__(self, data, next):\n",
    "        self.data = data\n",
    "        self.next = next\n",
    "\n",
    "class Linked(object):\n",
    "\n",
    "    def __init__(self):\n",
    "        self.head = None\n",
    "\n",
    "    def push(self,n):\n",
    "        self.head = Node(n, self.head)\n",
    "\n",
    "    def print_list(self):\n",
    "        current = self.head\n",
    "        while current:\n",
    "            print(current.data)\n",
    "            current = current.next\n",
    "    def intersect(self, olinked):\n",
    "        \n",
    "        llistA = self.head\n",
    "        llistB = olinked.head\n",
    "        countA = 0\n",
    "        countB = 0\n",
    "\n",
    "        headA = llistA\n",
    "        headB = llistB\n",
    "        retval = Linked()\n",
    "\n",
    "        while llistA:\n",
    "            countA +=1\n",
    "            llistA = llistA.next\n",
    "\n",
    "        while llistB:\n",
    "            countB +=1\n",
    "            llistB = llistB.next\n",
    "\n",
    "        llistA = headA\n",
    "        llistB = headB\n",
    "        print(\"counta\",countA)\n",
    "        print(\"counta\",countB)\n",
    "        if countA > countB:\n",
    "    #         diff = A-B\n",
    "            for il in range(0,countA-countB):\n",
    "                llistA = llistA.next\n",
    "        else:\n",
    "    #         diff = B-A\n",
    "            for il in range(0,countB-countA):\n",
    "                llistB = llistB.next\n",
    "\n",
    "        for il in range(min(countA,countB)):\n",
    "#             print(\"il\",il)\n",
    "#             print(\"listadata\",llistA.data)\n",
    "#             print(\"listbdata\",llistB.data)\n",
    "            if llistA.data == llistB.data:\n",
    "#                 print(\"yes\",il)\n",
    "                retval.push(llistA.data)\n",
    "            llistA = llistA.next\n",
    "            llistB = llistB.next\n",
    "        return retval\n",
    "\n",
    "        \n",
    "    \n",
    "#         thisone = self.head\n",
    "#         otherone = olinked.head\n",
    "#         retval = Linked()\n",
    "#         while thisone and otherone:\n",
    "#             if otherone.data > thisone.data:\n",
    "#                 thisone = thisone.next\n",
    "#             elif thisone.data > otherone.data:\n",
    "#                 otherone = otherone.next\n",
    "#             else:\n",
    "#                 retval.push(otherone.data)\n",
    "#                 thisone = thisone.next\n",
    "#                 otherone = otherone.next\n",
    "#         return retval\n",
    "llist = Linked()\n",
    "llist.push(9)\n",
    "llist.push(8)\n",
    "llist.push(3)\n",
    "llist.push(2)\n",
    "llist.push(1)\n",
    "llist.push(0)\n",
    "\n",
    "\n",
    "\n",
    "llist1 = Linked()\n",
    "llist1.push(9)\n",
    "llist1.push(8)\n",
    "llist1.push(50)\n",
    "llist1.push(20)\n",
    "llist1.push(10)\n",
    "\n",
    "# llist.print_list()\n",
    "# llist1.print_list()\n",
    "\n",
    "#llist1 = Linked()\n",
    "llist.intersect(llist1).print_list()"
   ]
  },
  {
   "cell_type": "code",
   "execution_count": 52,
   "metadata": {},
   "outputs": [
    {
     "name": "stdout",
     "output_type": "stream",
     "text": [
      "cba\n"
     ]
    }
   ],
   "source": [
    "def reverseString(A):\n",
    "    b = []\n",
    "    A = list(A)\n",
    "    for i in range(len(A)):\n",
    "        #print(A.pop())\n",
    "        b.append(A.pop())\n",
    "    return (''.join(b))\n",
    "\n",
    "a = \"abc\"\n",
    "output = reverseString(a)\n",
    "print (output)"
   ]
  },
  {
   "cell_type": "code",
   "execution_count": 10,
   "metadata": {},
   "outputs": [
    {
     "ename": "TypeError",
     "evalue": "__init__() takes 2 positional arguments but 3 were given",
     "output_type": "error",
     "traceback": [
      "\u001b[0;31m---------------------------------------------------------------------------\u001b[0m",
      "\u001b[0;31mTypeError\u001b[0m                                 Traceback (most recent call last)",
      "\u001b[0;32m<ipython-input-10-6c2d43b74fee>\u001b[0m in \u001b[0;36m<module>\u001b[0;34m()\u001b[0m\n\u001b[1;32m     36\u001b[0m \u001b[0;34m\u001b[0m\u001b[0m\n\u001b[1;32m     37\u001b[0m \u001b[0mll\u001b[0m \u001b[0;34m=\u001b[0m \u001b[0mlinked\u001b[0m\u001b[0;34m(\u001b[0m\u001b[0;34m)\u001b[0m\u001b[0;34m\u001b[0m\u001b[0m\n\u001b[0;32m---> 38\u001b[0;31m \u001b[0mll\u001b[0m\u001b[0;34m.\u001b[0m\u001b[0mpush\u001b[0m\u001b[0;34m(\u001b[0m\u001b[0;36m1\u001b[0m\u001b[0;34m)\u001b[0m\u001b[0;34m\u001b[0m\u001b[0m\n\u001b[0m\u001b[1;32m     39\u001b[0m \u001b[0mll\u001b[0m\u001b[0;34m.\u001b[0m\u001b[0mpush\u001b[0m\u001b[0;34m(\u001b[0m\u001b[0;36m2\u001b[0m\u001b[0;34m)\u001b[0m\u001b[0;34m\u001b[0m\u001b[0m\n\u001b[1;32m     40\u001b[0m \u001b[0mll\u001b[0m\u001b[0;34m.\u001b[0m\u001b[0mpush\u001b[0m\u001b[0;34m(\u001b[0m\u001b[0;36m3\u001b[0m\u001b[0;34m)\u001b[0m\u001b[0;34m\u001b[0m\u001b[0m\n",
      "\u001b[0;32m<ipython-input-10-6c2d43b74fee>\u001b[0m in \u001b[0;36mpush\u001b[0;34m(self, data)\u001b[0m\n\u001b[1;32m      9\u001b[0m \u001b[0;34m\u001b[0m\u001b[0m\n\u001b[1;32m     10\u001b[0m     \u001b[0;32mdef\u001b[0m \u001b[0mpush\u001b[0m\u001b[0;34m(\u001b[0m\u001b[0mself\u001b[0m\u001b[0;34m,\u001b[0m\u001b[0mdata\u001b[0m\u001b[0;34m)\u001b[0m\u001b[0;34m:\u001b[0m\u001b[0;34m\u001b[0m\u001b[0m\n\u001b[0;32m---> 11\u001b[0;31m         \u001b[0mself\u001b[0m\u001b[0;34m.\u001b[0m\u001b[0mhead\u001b[0m \u001b[0;34m=\u001b[0m \u001b[0mNode\u001b[0m\u001b[0;34m(\u001b[0m\u001b[0mself\u001b[0m\u001b[0;34m,\u001b[0m\u001b[0mdata\u001b[0m\u001b[0;34m)\u001b[0m\u001b[0;34m\u001b[0m\u001b[0m\n\u001b[0m\u001b[1;32m     12\u001b[0m \u001b[0;34m\u001b[0m\u001b[0m\n\u001b[1;32m     13\u001b[0m \u001b[0;34m\u001b[0m\u001b[0m\n",
      "\u001b[0;31mTypeError\u001b[0m: __init__() takes 2 positional arguments but 3 were given"
     ]
    }
   ],
   "source": [
    "class Node(object):\n",
    "    def __init__(self,data):\n",
    "        self.data=data\n",
    "        self.next = None\n",
    "\n",
    "class linked(object):\n",
    "    def __init__(self):\n",
    "        self.head=None\n",
    "        \n",
    "    def push(self,data):\n",
    "        self.head = Node(self,data)\n",
    "    \n",
    "    \n",
    "    def print_ll(self):\n",
    "        current = self.head\n",
    "        while current:\n",
    "            print(current.data)\n",
    "            current = current.next\n",
    "            \n",
    "#     def palindrome(self):\n",
    "#         current = self.head\n",
    "#         pal = current\n",
    "#         count = -1\n",
    "#         while current:\n",
    "#             count +=1\n",
    "#             current = current.next\n",
    "#         current = pal\n",
    "#         for i in range(count+1):\n",
    "#             if current.data = \n",
    "            \n",
    "    \n",
    "# n = Node(1)\n",
    "# n.next = Node(2)\n",
    "# n.next = Node(3)\n",
    "# print_ll(n)\n",
    "\n",
    "ll = linked()\n",
    "ll.push(1)\n",
    "ll.push(2)\n",
    "ll.push(3)\n",
    "ll.print_ll()\n",
    "        "
   ]
  },
  {
   "cell_type": "code",
   "execution_count": 46,
   "metadata": {},
   "outputs": [
    {
     "name": "stdout",
     "output_type": "stream",
     "text": [
      "3\n",
      "2\n",
      "1\n",
      "\n",
      "\n",
      "6\n",
      "3\n",
      "2\n",
      "1\n",
      "4\n",
      "5\n",
      "\n",
      "\n",
      "5\n",
      "4\n",
      "1\n",
      "2\n",
      "3\n",
      "6\n"
     ]
    }
   ],
   "source": [
    "class ListNode():\n",
    "    def __init__(self,data=None,next=None):\n",
    "        self.data = data\n",
    "        self.next = next\n",
    "        \n",
    "class Linkedlist():\n",
    "    def __init__(self):\n",
    "        self.head=None\n",
    "        \n",
    "    def prepend(self,n):\n",
    "        self.head = ListNode(n,self.head)\n",
    "        \n",
    "    def append(self,n):\n",
    "        if not self.head:\n",
    "            self.head = ListNode(n)\n",
    "            return\n",
    "        curr = self.head\n",
    "        while curr.next:\n",
    "            curr = curr.next\n",
    "            \n",
    "        curr.next = ListNode(n)\n",
    "        \n",
    "    def printlist(self):\n",
    "        curr = self.head\n",
    "        #print(curr.data)\n",
    "        while curr:\n",
    "            print(curr.data)\n",
    "            curr = curr.next\n",
    "            #print(curr.data)\n",
    "        \n",
    "    def find(self,key):\n",
    "        curr = self.head\n",
    "        while curr and curr.data!=key:\n",
    "            curr = curr.next\n",
    "        return curr.data\n",
    "    \n",
    "    def remove(self,key):\n",
    "        curr = self.head\n",
    "        prev = None\n",
    "        while curr and curr.data!=key:\n",
    "            \n",
    "            prev = curr\n",
    "            curr = curr.next\n",
    "            \n",
    "        if prev is None:\n",
    "            self.head = curr.next\n",
    "        elif curr:\n",
    "            prev.next = curr.next\n",
    "            curr.next = None\n",
    "            \n",
    "    def reverse(self,curr):\n",
    "        #curr = self.head\n",
    "        if curr.next == None:\n",
    "            self.head = curr\n",
    "            return\n",
    "        self.reverse(curr.next)\n",
    "        prev = curr.next\n",
    "        prev.next = curr\n",
    "        curr.next = None\n",
    "        \n",
    "        \n",
    "#     def reverse(self,item):\n",
    "#         if item.next == None:\n",
    "#             self.head = item\n",
    "#             return\n",
    "#         self.reverse(item.next)\n",
    "#         temp = item.next\n",
    "#         temp.next = item\n",
    "#         item.next = None\n",
    "            \n",
    "#     def reverse(self):\n",
    "#         curr = self.head\n",
    "#         prev = None\n",
    "#         while curr:\n",
    "#             next_node = curr.next\n",
    "#             curr.next = prev\n",
    "#             prev = curr\n",
    "#             curr = next_node\n",
    "#         self.head = prev\n",
    "\n",
    "ll = Linkedlist()\n",
    "ll.prepend(1)\n",
    "ll.prepend(2)\n",
    "ll.prepend(3)\n",
    "ll.printlist()\n",
    "print('\\n')\n",
    "ll.append(4)\n",
    "ll.append(5)\n",
    "ll.prepend(6)\n",
    "ll.printlist()\n",
    "print('\\n')\n",
    "# #output = ll.find(7)\n",
    "# #print(\"output\",output)\n",
    "# ll.remove(6)\n",
    "# ll.printlist()\n",
    "# print('\\n')\n",
    "# ll.remove(5)\n",
    "# ll.printlist()\n",
    "\n",
    "ll.reverse(ll.head)\n",
    "ll.printlist()"
   ]
  },
  {
   "cell_type": "code",
   "execution_count": 150,
   "metadata": {},
   "outputs": [
    {
     "name": "stdout",
     "output_type": "stream",
     "text": [
      "2\n",
      "3\n",
      "5\n",
      "6\n",
      "8\n",
      "11\n",
      "16\n",
      "19\n",
      "20\n",
      "22\n",
      "23\n",
      "24\n",
      "25\n",
      "26\n",
      "27\n",
      "30\n",
      "31\n",
      "33\n",
      "37\n",
      "38\n",
      "42\n",
      "45\n",
      "49\n",
      "50\n",
      "51\n",
      "55\n",
      "56\n",
      "61\n",
      "62\n",
      "63\n",
      "64\n",
      "66\n",
      "67\n",
      "68\n",
      "69\n",
      "72\n",
      "73\n",
      "74\n",
      "77\n",
      "78\n",
      "84\n",
      "85\n",
      "87\n",
      "92\n",
      "95\n",
      "98\n",
      "99\n",
      "100\n"
     ]
    }
   ],
   "source": [
    "class ListNode():\n",
    "    def __init__(self,data=None,next=None):\n",
    "        self.data = data\n",
    "        self.next = next\n",
    "        \n",
    "class Linkedlist():\n",
    "    def __init__(self):\n",
    "        self.head = None\n",
    "    def prepend(self,n):\n",
    "        self.head = ListNode(n,self.head)\n",
    "    def append(self,n):\n",
    "        if self.head is None:\n",
    "            self.head = ListNode(n)\n",
    "            return\n",
    "        curr = self.head\n",
    "        while curr.next:\n",
    "            curr = curr.next\n",
    "        curr.next = ListNode(n)\n",
    "    def printlist(self):\n",
    "        curr = self.head\n",
    "        while curr:\n",
    "            print(curr.data)\n",
    "            curr = curr.next\n",
    "            \n",
    "    def is_palindrome(self):\n",
    "        curr = self.head\n",
    "        #tail = self.head\n",
    "        prev = None\n",
    "        while curr.next:\n",
    "            curr.prev = prev\n",
    "            prev = curr\n",
    "            curr = curr.next\n",
    "        tail = curr\n",
    "        tail.prev = prev\n",
    "        head = self.head\n",
    "        while head is not tail and head.data == tail.data:\n",
    "            head = head.next\n",
    "            tail = tail.prev\n",
    "        if head is tail:\n",
    "            return True\n",
    "        else:\n",
    "            return False\n",
    "        \n",
    "    def fast_palindrome(self):\n",
    "        I = 0\n",
    "        curr = self.head\n",
    "        prev = None\n",
    "        while curr:\n",
    "            I +=1\n",
    "            prev = curr\n",
    "            curr = curr.next\n",
    "\n",
    "        prev = 0\n",
    "        curr = self.head\n",
    "        for i in range(I//2):\n",
    "            future = curr.next\n",
    "            curr.next = prev\n",
    "            prev = curr\n",
    "            curr = future\n",
    "        \n",
    "        while curr:\n",
    "            if prev.data!=curr.data:\n",
    "                return 0\n",
    "            prev = prev.next\n",
    "            curr = curr.next\n",
    "        return 1\n",
    "#k reverse\n",
    "    def reverse(self,head,k):\n",
    "        current = head\n",
    "        prev = None\n",
    "        future = None\n",
    "        c = 0\n",
    "        \n",
    "        while current is not None and c<k:\n",
    "            future = current.next\n",
    "            current.next = prev\n",
    "            prev = current\n",
    "            current = current.next\n",
    "            c +=1\n",
    "            \n",
    "        if future is not None:\n",
    "            head.next = self.reverse(future,k)\n",
    "        \n",
    "        #print(prev.data)\n",
    "        return prev\n",
    "    \n",
    "    \n",
    "    def duplicate(self):\n",
    "        curr = self.head\n",
    "        while curr.next is not None:\n",
    "            #print(\"curr next data\",curr.next.data)\n",
    "            if curr.data == curr.next.data:\n",
    "                curr.next = curr.next.next\n",
    "            else:\n",
    "                curr = curr.next\n",
    "        return self.head\n",
    "    #remove all occurence of duplicates\n",
    "    def duplicate_remove_all(self):\n",
    "        dummy = ListNode()\n",
    "        dummy.next = self.head\n",
    "        prev = dummy\n",
    "        curr = self.head\n",
    "        \n",
    "        while curr:\n",
    "            while curr.next and prev.next.data == curr.next.data:\n",
    "                curr = curr.next\n",
    "                \n",
    "            if prev.next == curr:\n",
    "                prev = prev.next\n",
    "            else:\n",
    "                prev.next = curr.next\n",
    "                \n",
    "                \n",
    "            curr = curr.next\n",
    "            \n",
    "        return self.head\n",
    "    \n",
    "    def merge(self,A,B):\n",
    "        dummy_head = tail = ListNode()\n",
    "        curr_A = A.head\n",
    "        curr_B = B.head\n",
    "        #print(\"A DAAT\",curr_A.data)\n",
    "        while curr_A and curr_B:\n",
    "            if curr_A.data<curr_B.data:\n",
    "                tail.next,curr_A = curr_A,curr_A.next\n",
    "            else:\n",
    "                tail.next,curr_B = curr_B,curr_B.next\n",
    "                \n",
    "            tail = tail.next\n",
    "        \n",
    "        tail = curr_A or curr_B\n",
    "        return dummy_head.next\n",
    "    \n",
    "    \n",
    "    def rotate(self,k):\n",
    "        prev = None\n",
    "        while k:\n",
    "            curr = self.head\n",
    "            print(\"curr data\",curr.data)\n",
    "            while curr.next:\n",
    "                prev = curr\n",
    "                curr = curr.next\n",
    "            print(\"new curr data\",curr.data)\n",
    "            curr.next = self.head\n",
    "            prev.next = None\n",
    "            self.head = curr\n",
    "            k -=1\n",
    "            \n",
    "            \n",
    "#delete k elements from end     \n",
    "    def k_from_last(self,k):\n",
    "        dummy_head = ListNode(0,self.head)\n",
    "        first = dummy_head.next\n",
    "        second = dummy_head\n",
    "        \n",
    "        for i in range(k):\n",
    "            first = first.next\n",
    "            \n",
    "        #second = dummy_head\n",
    "        \n",
    "        while first:\n",
    "            first,second = first.next,second.next\n",
    "            \n",
    "        second.next = second.next.next\n",
    "        \n",
    "        return dummy_head.next\n",
    "    \n",
    "    \n",
    "    def reverse_sublist(self,start,finish):\n",
    "        dummy_head = sublist_head = ListNode(0,self.head)\n",
    "        for i in range(1,start):\n",
    "            sublist_head = sublist_head.next\n",
    "            \n",
    "        subiter = sublist_head.next\n",
    "        \n",
    "        for i in range(finish-start):\n",
    "            temp = subiter.next\n",
    "            subiter.next,temp.next,sublist_head.next = temp.next,sublist_head.next,temp\n",
    "            \n",
    "        return dummy_head.next\n",
    "    \n",
    "    \n",
    "    def reorder_list(self):\n",
    "        prev = None\n",
    "        slow = fast = start = dummy_head = self.head\n",
    "        \n",
    "        while fast and fast.next:\n",
    "            prev = slow\n",
    "            slow = slow.next\n",
    "            fast = fast.next.next\n",
    "            \n",
    "        prev.next=None\n",
    "        prev = None\n",
    "        curr = slow\n",
    "        while curr:\n",
    "            link = curr.next\n",
    "            curr.next =prev\n",
    "            prev = curr\n",
    "            curr = link\n",
    "            \n",
    "        tail = ListNode()    \n",
    "        while start:\n",
    "            link = start.next\n",
    "            start.next = prev\n",
    "            tail.next = start\n",
    "            tail = prev\n",
    "            start = link\n",
    "            prev = prev.next\n",
    "            \n",
    "        return dummy_head \n",
    "    \n",
    "    #use tortoise and hare method to detct start of cycle\n",
    "    def is_cycle(self):\n",
    "        def cycle_len(end):\n",
    "            start,step = end,0\n",
    "            while True:\n",
    "                step +=1\n",
    "                start = start.next\n",
    "                if start is end:\n",
    "                    return step\n",
    "        \n",
    "        \n",
    "        slow = fast = self.head\n",
    "        while fast and fast.next and fast.next.next:\n",
    "            slow = slow.next\n",
    "            fast = fast.next.next\n",
    "            \n",
    "            if slow is fast:\n",
    "                cycle_itr = self.head\n",
    "                #print(cycle_len(slow))\n",
    "                for i in range(cycle_len(slow)):\n",
    "                    cycle_itr = cycle_itr.next\n",
    "                it = self.head\n",
    "                while it is not cycle_itr:\n",
    "                    it = it.next\n",
    "                    cycle_itr = cycle_itr.next\n",
    "                return it\n",
    "        return None\n",
    "                \n",
    "        \n",
    "        \n",
    "    #use hashing to detect cycle or not   \n",
    "    def is_cycle_hash(self):\n",
    "        s = set()\n",
    "        curr = self.head\n",
    "        \n",
    "        while curr:\n",
    "            if curr in s:\n",
    "                return True\n",
    "            else:\n",
    "                s.add(curr)\n",
    "            curr = curr.next\n",
    "        \n",
    "        return False\n",
    "    \n",
    "    \n",
    "    def partition(self,x):\n",
    "        head1 = ListNode()\n",
    "        head2 = ListNode()\n",
    "        node1,node2 = head1,head2\n",
    "        curr = self.head\n",
    "        \n",
    "        while curr:\n",
    "            if curr.data <x :\n",
    "                node1.next = curr\n",
    "                node1 = curr\n",
    "                curr = curr.next\n",
    "                \n",
    "            else:\n",
    "                node2.next = curr\n",
    "                node2 = curr\n",
    "                curr = curr.next\n",
    "                  \n",
    "        node1.next = head2.next\n",
    "        node2.next = None\n",
    "        \n",
    "    def insertion_sort(self):\n",
    "        dummy = ListNode()\n",
    "        dummy.next = self.head\n",
    "        lastSorted = self.head\n",
    "        while lastSorted.next:\n",
    "            if lastSorted.next.data < lastSorted.data:\n",
    "                tmp = dummy\n",
    "                while tmp.next.data < lastSorted.next.data:\n",
    "                    tmp = tmp.next\n",
    "                nexttosort = lastSorted.next\n",
    "                lastSorted.next = nexttosort.next\n",
    "                nexttosort.next = tmp.next\n",
    "                tmp.next = nexttosort\n",
    "                \n",
    "            else:\n",
    "                lastSorted = lastSorted.next\n",
    "        return dummy.next\n",
    "        \n",
    "    \n",
    "ll = Linkedlist()\n",
    "ll2 = Linkedlist()\n",
    "# ll.append(6)\n",
    "# ll.prepend(5)\n",
    "# ll.prepend(4)\n",
    "# ll.prepend(3)\n",
    "# ll.prepend(2)\n",
    "# ll.prepend(1)\n",
    "\n",
    "# ll.append(12)\n",
    "# ll.append(11)\n",
    "# ll.append(13)\n",
    "# ll.append(5)\n",
    "# ll.append(6)\n",
    "\n",
    "ll.append(5)\n",
    "ll.append(66)\n",
    "ll.append(68)\n",
    "ll.append(42)\n",
    "ll.append(73)\n",
    "ll.append(25)\n",
    "ll.append(84)\n",
    "ll.append(63)\n",
    "ll.append(72)\n",
    "ll.append(20)\n",
    "ll.append(77)\n",
    "ll.append(38)\n",
    "ll.append(8)\n",
    "ll.append(99)\n",
    "ll.append(92)\n",
    "ll.append(49)\n",
    "ll.append(74)\n",
    "ll.append(45)\n",
    "ll.append(30)\n",
    "ll.append(51)\n",
    "ll.append(50)\n",
    "ll.append(95)\n",
    "ll.append(56)\n",
    "ll.append(19)\n",
    "ll.append(31)\n",
    "ll.append(26)\n",
    "ll.append(98)\n",
    "ll.append(67)\n",
    "ll.append(100)\n",
    "ll.append(2)\n",
    "ll.append(24)\n",
    "ll.append(6)\n",
    "ll.append(37)\n",
    "ll.append(69)\n",
    "ll.append(11)\n",
    "ll.append(16)\n",
    "ll.append(61)\n",
    "ll.append(23)\n",
    "ll.append(78)\n",
    "ll.append(27)\n",
    "ll.append(64)\n",
    "ll.append(87)\n",
    "ll.append(3)\n",
    "ll.append(85)\n",
    "ll.append(55)\n",
    "ll.append(22)\n",
    "ll.append(33)\n",
    "ll.append(62)\n",
    "\n",
    "\n",
    "\n",
    "\n",
    "\n",
    "ll.head = ll.insertion_sort()\n",
    "ll.printlist()\n",
    "# ll.partition(3)\n",
    "#ll.printlist()\n",
    "# ll.append(5)\n",
    "# ll.append(3)\n",
    "# ll.head.next.next.next = ll.head.next.next\n",
    "# out = ll.is_cycle()\n",
    "#print(out.data)\n",
    "# ll.head = ll.reorder_list()\n",
    "# ll.head = ll.reverse_sublist(2,4)\n",
    "#ll.printlist()\n",
    "# ll.head = ll.k_from_last(4)\n",
    "# ll.printlist()\n",
    "\n",
    "# ll.rotate(2)\n",
    "# print('\\n')\n",
    "# ll.printlist()\n",
    "# ll2.append(4)\n",
    "# ll2.append(11)\n",
    "# ll2.append(15)\n",
    "\n",
    "# ll.printlist()\n",
    "# print('\\n')\n",
    "# ll2.printlist()\n",
    "\n",
    "# ll3 = Linkedlist()\n",
    "# ll3.head = ll3.merge(ll,ll2)\n",
    "# ll3.printlist()\n",
    "# ll.append(1)\n",
    "# ll.append(1)\n",
    "# ll.append(2)\n",
    "# ll.append(2)\n",
    "# ll.append(2)\n",
    "# ll.append(2)\n",
    "# ll.append(3)\n",
    "# ll.printlist()\n",
    "# print('\\n')\n",
    "# #head = ll.duplicate()\n",
    "#  = ll.duplicate_remove_all()\n",
    "# ll.printlist()\n",
    "#ll.fast_palindrome()\n",
    "#ll.printlist()\n",
    "# ll.head = ll.reverse(ll.head,2)\n",
    "# ll.printlist()"
   ]
  },
  {
   "cell_type": "code",
   "execution_count": 146,
   "metadata": {},
   "outputs": [
    {
     "name": "stdout",
     "output_type": "stream",
     "text": [
      "[5, 6, 11, 12, 13]\n"
     ]
    }
   ],
   "source": [
    "#insertion array sort\n",
    "\n",
    "lst = [12,11,13,5,6]\n",
    "for i in range(1,len(lst)):\n",
    "    key = lst[i]\n",
    "    j = i-1\n",
    "    \n",
    "    while j >=0 and key < lst[j]:\n",
    "        lst[j+1] = lst[j]\n",
    "        j -=1\n",
    "    lst[j+1] = key\n",
    "    \n",
    "print(lst)"
   ]
  },
  {
   "cell_type": "code",
   "execution_count": 184,
   "metadata": {},
   "outputs": [
    {
     "name": "stdout",
     "output_type": "stream",
     "text": [
      "1\n"
     ]
    },
    {
     "data": {
      "text/plain": [
       "'olleH'"
      ]
     },
     "execution_count": 184,
     "metadata": {},
     "output_type": "execute_result"
    }
   ],
   "source": [
    "class ListNode():\n",
    "    def __init__(self,data=None,next=None):\n",
    "        self.data=data\n",
    "        self.next = next\n",
    "        \n",
    "        \n",
    "class Stack():\n",
    "    def __init__(self):\n",
    "        self.head = None\n",
    "        \n",
    "    def push(self,n):\n",
    "        self.head = ListNode(n,self.head)\n",
    "        \n",
    "    def printlist(self):\n",
    "        curr = self.head\n",
    "        while curr:\n",
    "            print(curr.data)\n",
    "            curr = curr.next\n",
    "    def pop(self):\n",
    "#         dummy = ListNode()\n",
    "#         dummy.next = self.head         \n",
    "        curr = self.head\n",
    "        self.head = curr.next\n",
    "        return self.head\n",
    "        \n",
    "\n",
    "        \n",
    "        \n",
    "##check paranthesis in stack        \n",
    "def stack1():\n",
    "    string = \"{()}\"\n",
    "    open_para = set('({[')\n",
    "    close_para = set([('(',')'),('[',']'),('{','}')])\n",
    "    stack = []\n",
    "    for i in string:\n",
    "        if i in open_para:\n",
    "            stack.append(i)\n",
    "        else:\n",
    "            if len(stack)==0:\n",
    "                return 0\n",
    "            last = stack.pop()\n",
    "            if (last,i) not in close_para:\n",
    "                return 0\n",
    "    return int(len(stack)==0)\n",
    "            \n",
    "output = stack1()\n",
    "print (output)\n",
    "\n",
    "\n",
    "string = \"Hello\"\n",
    "string = list(string)\n",
    "b = []\n",
    "for i in range(len(string)):\n",
    "    b.append(string.pop())\n",
    "    \n",
    "\"\".join(b)\n"
   ]
  },
  {
   "cell_type": "code",
   "execution_count": 201,
   "metadata": {},
   "outputs": [
    {
     "name": "stdout",
     "output_type": "stream",
     "text": [
      "e \n",
      "e a\n",
      "e b\n",
      "e ..\n",
      "e ..\n",
      "e c\n",
      "e \n",
      "/a/../c\n"
     ]
    }
   ],
   "source": [
    "###path directory\n",
    "def path_directory(path):\n",
    "    entries = path.split('/')\n",
    "    #print(entries)\n",
    "    new_path = []\n",
    "    for e in entries:\n",
    "        if e ==\"..\":\n",
    "            #print(\"yes\")\n",
    "            if new_path:\n",
    "                new_path.pop()\n",
    "        elif e!=\".\":\n",
    "            print(\"e\",e)\n",
    "            new_path.append(e)\n",
    "\n",
    "        new_path = [p for p in new_path if p]\n",
    "    return \"/\" + \"/\".join(new_path)\n",
    "\n",
    "path = \"/a/./b/../../c/\"\n",
    "output = path_directory(path)\n",
    "print(output)"
   ]
  },
  {
   "cell_type": "code",
   "execution_count": 200,
   "metadata": {},
   "outputs": [
    {
     "name": "stdout",
     "output_type": "stream",
     "text": [
      "e \n",
      "e a\n",
      "e b\n",
      "e c\n",
      "e \n",
      "/c\n"
     ]
    }
   ],
   "source": [
    "\n",
    "##absolute path directory\n",
    "def simplifyPath(A):\n",
    "    entries = A.split('/')\n",
    "    new_path = []\n",
    "    for e in entries:\n",
    "        if e == '..':\n",
    "            if new_path:\n",
    "                new_path.pop()\n",
    "        elif e != '.':\n",
    "            print(\"e\",e)\n",
    "            new_path.append(e)\n",
    "    new_path = [p for p in new_path if p]\n",
    "    return '/' + '/'.join(new_path)\n",
    "path = \"/a/./b/../../c/\"\n",
    "output = simplifyPath(path)\n",
    "print(output)"
   ]
  },
  {
   "cell_type": "code",
   "execution_count": 221,
   "metadata": {},
   "outputs": [
    {
     "name": "stdout",
     "output_type": "stream",
     "text": [
      "sig +\n",
      "sigsig +\n",
      "sig *\n",
      "sigsig *\n",
      "0\n"
     ]
    }
   ],
   "source": [
    "##check for duplicate paranthesis:\n",
    "\n",
    "def duplicate_paran(string):\n",
    "    stack = []\n",
    "    sign = ['+','-','/','*']\n",
    "    for e in string:\n",
    "        if e == \"(\":\n",
    "            stack.append(e)\n",
    "        elif e in sign:\n",
    "            stack.append(e)\n",
    "        elif e == \")\":\n",
    "            sig = stack[-1]\n",
    "            print(\"sig\",sig)\n",
    "            if sig in sign:\n",
    "                print(\"sigsig\",sig)\n",
    "                stack.pop()\n",
    "                stack.pop()\n",
    "            else:\n",
    "                return 1\n",
    "    return 0\n",
    "\n",
    "string=\"(a*(a+b))\"\n",
    "output = duplicate_paran(string)\n",
    "print(output)"
   ]
  },
  {
   "cell_type": "code",
   "execution_count": 267,
   "metadata": {},
   "outputs": [
    {
     "name": "stdout",
     "output_type": "stream",
     "text": [
      "10\n"
     ]
    }
   ],
   "source": [
    "#length of longest continuous balanced substring\n",
    "def len_paran(string):\n",
    "    stack = []\n",
    "    count = []\n",
    "    inc = 0\n",
    "    for e in range(len(string)):\n",
    "        if string[e] ==\"(\":\n",
    "            stack.append(string[e])\n",
    "        elif string[e]==\")\" and len(stack)!=0 and stack[-1]==\"(\":\n",
    "            inc +=2\n",
    "            stack.pop()\n",
    "            if len(stack)==0 or e==len(string)-1:\n",
    "                count.append(inc)\n",
    "                inc = 0\n",
    "    return max(count)\n",
    "            \n",
    "\n",
    "string=\")((((()))))))))(())(\"\n",
    "out = len_paran(string)\n",
    "print(out)"
   ]
  },
  {
   "cell_type": "code",
   "execution_count": 270,
   "metadata": {},
   "outputs": [
    {
     "name": "stdout",
     "output_type": "stream",
     "text": [
      "[-1, 4, -1, 2, 2]\n"
     ]
    }
   ],
   "source": [
    "#nearest smaller element with stack\n",
    "def nearest_small(arr):\n",
    "    stack = []\n",
    "    result = []\n",
    "    for num in arr:\n",
    "        while stack and stack[-1] >=num:\n",
    "            stack.pop()\n",
    "            \n",
    "        if stack:\n",
    "            result.append(stack[-1])\n",
    "            \n",
    "        else:\n",
    "            result.append(-1)\n",
    "        stack.append(num)\n",
    "    \n",
    "    return result\n",
    "\n",
    "arr = [4,5,2,10,8]\n",
    "output = nearest_small(arr)\n",
    "print(output)"
   ]
  },
  {
   "cell_type": "code",
   "execution_count": 295,
   "metadata": {},
   "outputs": [
    {
     "ename": "IndexError",
     "evalue": "pop from empty list",
     "output_type": "error",
     "traceback": [
      "\u001b[0;31m---------------------------------------------------------------------------\u001b[0m",
      "\u001b[0;31mIndexError\u001b[0m                                Traceback (most recent call last)",
      "\u001b[0;32m<ipython-input-295-98615879efda>\u001b[0m in \u001b[0;36m<module>\u001b[0;34m()\u001b[0m\n\u001b[1;32m     27\u001b[0m \u001b[0;34m\u001b[0m\u001b[0m\n\u001b[1;32m     28\u001b[0m \u001b[0marr\u001b[0m \u001b[0;34m=\u001b[0m \u001b[0;34m[\u001b[0m\u001b[0;34m\"-1\"\u001b[0m\u001b[0;34m]\u001b[0m\u001b[0;34m\u001b[0m\u001b[0m\n\u001b[0;32m---> 29\u001b[0;31m \u001b[0mresult\u001b[0m \u001b[0;34m=\u001b[0m \u001b[0mpolish_math\u001b[0m\u001b[0;34m(\u001b[0m\u001b[0marr\u001b[0m\u001b[0;34m)\u001b[0m\u001b[0;34m\u001b[0m\u001b[0m\n\u001b[0m\u001b[1;32m     30\u001b[0m \u001b[0mprint\u001b[0m\u001b[0;34m(\u001b[0m\u001b[0mresult\u001b[0m\u001b[0;34m)\u001b[0m\u001b[0;34m\u001b[0m\u001b[0m\n\u001b[1;32m     31\u001b[0m \u001b[0;34m\u001b[0m\u001b[0m\n",
      "\u001b[0;32m<ipython-input-295-98615879efda>\u001b[0m in \u001b[0;36mpolish_math\u001b[0;34m(arr)\u001b[0m\n\u001b[1;32m     24\u001b[0m             \u001b[0mstack\u001b[0m\u001b[0;34m.\u001b[0m\u001b[0mappend\u001b[0m\u001b[0;34m(\u001b[0m\u001b[0mout\u001b[0m\u001b[0;34m)\u001b[0m\u001b[0;34m\u001b[0m\u001b[0m\n\u001b[1;32m     25\u001b[0m \u001b[0;34m\u001b[0m\u001b[0m\n\u001b[0;32m---> 26\u001b[0;31m     \u001b[0;32mreturn\u001b[0m \u001b[0mstack\u001b[0m\u001b[0;34m.\u001b[0m\u001b[0mpop\u001b[0m\u001b[0;34m(\u001b[0m\u001b[0;34m)\u001b[0m\u001b[0;34m\u001b[0m\u001b[0m\n\u001b[0m\u001b[1;32m     27\u001b[0m \u001b[0;34m\u001b[0m\u001b[0m\n\u001b[1;32m     28\u001b[0m \u001b[0marr\u001b[0m \u001b[0;34m=\u001b[0m \u001b[0;34m[\u001b[0m\u001b[0;34m\"-1\"\u001b[0m\u001b[0;34m]\u001b[0m\u001b[0;34m\u001b[0m\u001b[0m\n",
      "\u001b[0;31mIndexError\u001b[0m: pop from empty list"
     ]
    }
   ],
   "source": [
    "#perform polish math operation\n",
    "def polish_math(arr):\n",
    "    def plus(op1,op2):\n",
    "        return op1+op2\n",
    "    \n",
    "    def minus(op1,op2):\n",
    "        return op1-op2\n",
    "    \n",
    "    def division(op1,op2):\n",
    "        return op1/op2\n",
    "    \n",
    "    def multiply(op1,op2):\n",
    "        return op1*op2\n",
    "    \n",
    "    sign = {\"+\":plus,\"-\":minus,\"/\":division,\"*\":multiply}\n",
    "    stack = []\n",
    "    for num in arr:\n",
    "        if num.isnumeric():\n",
    "            stack.append(int(num))\n",
    "        elif num in sign:\n",
    "            op2 = stack.pop()\n",
    "            op1 = stack.pop()\n",
    "            out = sign[num](op1,op2)\n",
    "            stack.append(out)\n",
    "            \n",
    "    return stack.pop()\n",
    "\n",
    "arr = [\"-1\"]\n",
    "result = polish_math(arr)\n",
    "print(result)\n",
    "        \n",
    "        "
   ]
  },
  {
   "cell_type": "code",
   "execution_count": 288,
   "metadata": {},
   "outputs": [
    {
     "name": "stdout",
     "output_type": "stream",
     "text": [
      "True\n"
     ]
    }
   ],
   "source": [
    "def plus(op1, op2):\n",
    "    return op1+op2\n",
    "\n",
    "def minus(op1, op2):\n",
    "    return op1-op2\n",
    "\n",
    "def division(op1, op2):\n",
    "    return op1//op2\n",
    "\n",
    "def multiply(op1, op2):\n",
    "    return op1*op2\n",
    "num = \"*\"\n",
    "sign = {\"+\":plus,\"-\":minus,\"/\":division,\"*\":multiply}\n",
    "if num in sign:\n",
    "    print(True)"
   ]
  },
  {
   "cell_type": "code",
   "execution_count": 304,
   "metadata": {},
   "outputs": [
    {
     "name": "stdout",
     "output_type": "stream",
     "text": [
      "True\n"
     ]
    }
   ],
   "source": [
    "class Node():\n",
    "    def __init__(self,data):\n",
    "        self.data = data\n",
    "        self.left = None\n",
    "        self.right = None\n",
    "        \n",
    "INT_MAX = 4294967296\n",
    "INT_MIN = -4294967296\n",
    "    \n",
    "def isBST(Node):\n",
    "    return BSTUtils(Node,INT_MIN,INT_MAX)\n",
    "\n",
    "def BSTUtils(Node,mini,maxi):\n",
    "    if Node is None:\n",
    "        return True\n",
    "    \n",
    "    if Node.data < mini or Node.data > maxi:\n",
    "        return False\n",
    "    \n",
    "    else:\n",
    "        return (BSTUtils(Node.left,mini,Node.data-1) and BSTUtils(Node.right,Node.data+1,maxi))\n",
    "    \n",
    "root = Node(4)\n",
    "root.left = Node(2)\n",
    "root.right = Node(5)\n",
    "root.left.left = Node(1)\n",
    "root.left.right = Node(3)\n",
    "output = isBST(root)\n",
    "print(output)\n"
   ]
  },
  {
   "cell_type": "code",
   "execution_count": 309,
   "metadata": {},
   "outputs": [
    {
     "name": "stdout",
     "output_type": "stream",
     "text": [
      "hello\n",
      "10\n"
     ]
    }
   ],
   "source": [
    "class Node():\n",
    "    def __init__(self,data):\n",
    "        self.data = data\n",
    "        self.left = None\n",
    "        self.right = None\n",
    "        \n",
    "def next_greater(node,B):\n",
    "    root = node\n",
    "    succ = root\n",
    "    while root.data!=B:\n",
    "        if root.data > B:\n",
    "            succ = root\n",
    "            root = root.left\n",
    "            \n",
    "        else:\n",
    "            root = root.right\n",
    "        \n",
    "    if root.right!=None:\n",
    "        root = root.right\n",
    "        while root.left!= None:\n",
    "            print(\"hello\")\n",
    "            root = root.left\n",
    "        return root.data   \n",
    "    else:\n",
    "        if succ.data < B:\n",
    "            return None\n",
    "        else:\n",
    "            return succ\n",
    "        \n",
    "root =Node(20)\n",
    "root.left = Node(8)\n",
    "root.left.left = Node(4)\n",
    "root.left.right = Node(12)\n",
    "root.left.right.left = Node(10)\n",
    "root.left.right.right = Node(14)\n",
    "root.right = Node(22)\n",
    "out = next_greater(root,8)\n",
    "print(out)"
   ]
  },
  {
   "cell_type": "code",
   "execution_count": 312,
   "metadata": {},
   "outputs": [
    {
     "name": "stdout",
     "output_type": "stream",
     "text": [
      "[4, 8, 10, 12, 14, 20, 22]\n"
     ]
    }
   ],
   "source": [
    "class Node():\n",
    "    def __init__(self,data):\n",
    "        self.val = data\n",
    "        self.left = None\n",
    "        self.right = None\n",
    "\n",
    "\n",
    "def inorderTraversal(A):\n",
    "    curnode = A\n",
    "    values = []\n",
    "    stack = []\n",
    "\n",
    "    while True:\n",
    "\n",
    "        if curnode is not None:\n",
    "            stack.append(curnode)\n",
    "            curnode = curnode.left\n",
    "\n",
    "        else:\n",
    "            if len(stack) > 0:\n",
    "                curnode = curnode.right\n",
    "                curnode = stack.pop()\n",
    "                values.append(curnode.val)\n",
    "                #curnode = curnode.right\n",
    "            else:\n",
    "                return values\n",
    "            \n",
    "root =Node(20)\n",
    "root.left = Node(8)\n",
    "root.left.left = Node(4)\n",
    "root.left.right = Node(12)\n",
    "root.left.right.left = Node(10)\n",
    "root.left.right.right = Node(14)\n",
    "root.right = Node(22)\n",
    "out = inorderTraversal(root)\n",
    "print (out)"
   ]
  },
  {
   "cell_type": "code",
   "execution_count": 319,
   "metadata": {},
   "outputs": [
    {
     "name": "stdout",
     "output_type": "stream",
     "text": [
      "node 20\n",
      "node 22\n",
      "node 8\n",
      "node 12\n",
      "node 14\n",
      "node 10\n",
      "node 4\n",
      "[4, 10, 14, 12, 8, 22, 20]\n"
     ]
    }
   ],
   "source": [
    "def postTraversal(root):\n",
    "    s1 = []\n",
    "    s2 = []\n",
    "    s1.append(root)\n",
    "    while len(s1)>0:\n",
    "        node = s1.pop()\n",
    "        s2.append(node)\n",
    "        \n",
    "        while node.left is not None:\n",
    "            s1.append(node.left)\n",
    "            \n",
    "        while node.right is not None:\n",
    "            s1.append(node.right)\n",
    "            \n",
    "     \n",
    "    res = []\n",
    "    while len(s2)>0:\n",
    "        node = s2.pop()\n",
    "        res.append(node)\n",
    "        \n",
    "    return res\n",
    "    \n",
    "\n",
    "\n",
    "root =Node(20)\n",
    "root.left = Node(8)\n",
    "root.left.left = Node(4)\n",
    "root.left.right = Node(12)\n",
    "root.left.right.left = Node(10)\n",
    "root.left.right.right = Node(14)\n",
    "root.right = Node(22)\n",
    "out = postorderTraversal(root)\n",
    "print(out)"
   ]
  },
  {
   "cell_type": "code",
   "execution_count": 321,
   "metadata": {},
   "outputs": [
    {
     "name": "stdout",
     "output_type": "stream",
     "text": [
      "[20, 8, 4, 12, 10, 14, 22]\n"
     ]
    }
   ],
   "source": [
    "def preorder(root):\n",
    "    stack = []\n",
    "    ans = []\n",
    "    stack.append(root)\n",
    "    while len(stack)>0:\n",
    "        temp = stack.pop()\n",
    "        ans.append(temp.val)\n",
    "        if temp.right!=None:\n",
    "            stack.append(temp.right)\n",
    "        if temp.left!=None:\n",
    "            stack.append(temp.left)\n",
    "    return ans\n",
    "\n",
    "\n",
    "root =Node(20)\n",
    "root.left = Node(8)\n",
    "root.left.left = Node(4)\n",
    "root.left.right = Node(12)\n",
    "root.left.right.left = Node(10)\n",
    "root.left.right.right = Node(14)\n",
    "root.right = Node(22)\n",
    "out = preorder(root)\n",
    "print(out)"
   ]
  },
  {
   "cell_type": "code",
   "execution_count": null,
   "metadata": {
    "collapsed": true
   },
   "outputs": [],
   "source": [
    "def height(root):\n",
    "    if root is None:\n",
    "        return 0\n",
    "    \n",
    "    return max(height(root.left),height(root.right))+1\n",
    "\n",
    "# function to check if tree is height-balanced or not\n",
    "def isBalanced(root):\n",
    "     \n",
    "    # Base condition\n",
    "    if root is None:\n",
    "        return True\n",
    " \n",
    "    # for left and right subtree height\n",
    "    lh = height(root.left)\n",
    "    rh = height(root.right)\n",
    " \n",
    "    # allowed values for (lh - rh) are 1, -1, 0\n",
    "    if (abs(lh - rh) <= 1) and isBalanced(\n",
    "    root.left) is True and isBalanced( root.right) is True:\n",
    "        return True\n",
    " \n",
    "    # if we reach here means tree is not \n",
    "    # height-balanced tree\n",
    "    return False"
   ]
  },
  {
   "cell_type": "code",
   "execution_count": 15,
   "metadata": {},
   "outputs": [
    {
     "data": {
      "text/plain": [
       "84"
      ]
     },
     "execution_count": 15,
     "metadata": {},
     "output_type": "execute_result"
    }
   ],
   "source": [
    "a = \"This is going to be my first Hackathon.I’d always wondered how hackathons help students.But of late,I realised that although my skillset is rich,I lack on my marketing skills,thinking there are programmers more skilled than I am,undermining my knowledge and confidence. But recently,great things happened to me.I’m being mentored by a Google program,interviewing at unicorn startups and I’m a GHC’18 scholar.PenApps will help me in this direction giving me a fact-check of my skills,boost my confidence and meet help who inspire me for my future.\"\n",
    "arr = a.split(\" \")\n",
    "len(arr)"
   ]
  },
  {
   "cell_type": "code",
   "execution_count": 24,
   "metadata": {},
   "outputs": [
    {
     "name": "stdout",
     "output_type": "stream",
     "text": [
      "True\n"
     ]
    }
   ],
   "source": [
    "#buddy strings. swap when strings differ only by 1 swap else false\n",
    "from collections import Counter\n",
    "def buddy_strings(str1,str2):\n",
    "    len1= len(str1)\n",
    "    len2= len(str2)\n",
    "    count = 0\n",
    "    prev = -1\n",
    "    current = -1\n",
    "    i=0\n",
    "    if str1 == str2:\n",
    "        hash1 = Counter(str1)\n",
    "        if max(hash1.values()) > 1:\n",
    "            return True\n",
    "        else:\n",
    "            return False\n",
    "        \n",
    "    while i < len1:\n",
    "        if str1[i]!=str2[i]:\n",
    "            count +=1\n",
    "            if count > 2:\n",
    "                return False\n",
    "            prev = current\n",
    "            current = i\n",
    "            \n",
    "        i +=1\n",
    "    return (count==2 and (str1[prev]==str2[current]) and (str1[current]==str2[prev]))\n",
    "\n",
    "str1 = \"abab\"\n",
    "str2 = \"abab\"\n",
    "print(buddy_strings(str1,str2))"
   ]
  },
  {
   "cell_type": "code",
   "execution_count": 27,
   "metadata": {},
   "outputs": [
    {
     "data": {
      "text/plain": [
       "dict_values([3, 2, 1, 1, 1])"
      ]
     },
     "execution_count": 27,
     "metadata": {},
     "output_type": "execute_result"
    }
   ],
   "source": [
    "c = Counter('gallahad')\n",
    "c.values()"
   ]
  },
  {
   "cell_type": "code",
   "execution_count": 6,
   "metadata": {},
   "outputs": [
    {
     "name": "stdout",
     "output_type": "stream",
     "text": [
      "[1, 4, 8, 48]\n",
      "[60, 120, 40, 48]\n",
      "[60, 120, 40, 48]\n"
     ]
    }
   ],
   "source": [
    "def with_division(arr):\n",
    "    ##add edge cases for elements with value 0\n",
    "    n = len(arr)\n",
    "    p =1\n",
    "    for i in range(0,n):\n",
    "        p = p* arr[i]\n",
    "        \n",
    "    output = []\n",
    "    for i in range(0,n):\n",
    "        output.append(p//arr[i])\n",
    "    return output\n",
    "\n",
    "def without_division(arr):\n",
    "    ##add edge cases for elements with value 0\n",
    "    n = len(arr)\n",
    "    p = 1\n",
    "    output = []\n",
    "    for i in range(0,n):\n",
    "        output.append(p)\n",
    "        p = p * arr[i]\n",
    "    print(output)\n",
    "    p =1\n",
    "    for i in range(n-1,-1,-1):\n",
    "        output[i] = output[i]*p\n",
    "        p = p*arr[i]\n",
    "    \n",
    "    return output\n",
    "\n",
    "arr = [4,2,6,5]\n",
    "out = with_division(arr)\n",
    "out1 = without_division(arr)\n",
    "print(out)\n",
    "print(out1)"
   ]
  },
  {
   "cell_type": "code",
   "execution_count": null,
   "metadata": {},
   "outputs": [],
   "source": []
  }
 ],
 "metadata": {
  "anaconda-cloud": {},
  "kernelspec": {
   "display_name": "Python 3",
   "language": "python",
   "name": "python3"
  },
  "language_info": {
   "codemirror_mode": {
    "name": "ipython",
    "version": 3
   },
   "file_extension": ".py",
   "mimetype": "text/x-python",
   "name": "python",
   "nbconvert_exporter": "python",
   "pygments_lexer": "ipython3",
   "version": "3.5.5"
  }
 },
 "nbformat": 4,
 "nbformat_minor": 1
}
