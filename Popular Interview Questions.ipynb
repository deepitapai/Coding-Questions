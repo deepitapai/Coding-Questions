{
 "cells": [
  {
   "cell_type": "code",
   "execution_count": 30,
   "metadata": {},
   "outputs": [
    {
     "name": "stdout",
     "output_type": "stream",
     "text": [
      "[3, 7, 10, 15]\n",
      "0\n"
     ]
    }
   ],
   "source": [
    "#1:Given a list of numbers and a number k, return whether any two numbers from the list add up to k.\n",
    "# For example, given [10, 15, 3, 7] and k of 17, return true since 10 + 7 is 17.\n",
    "# Bonus: Can you do this in one pass?\n",
    "def partition(arr,low,high):\n",
    "    pivot = arr[high]\n",
    "    i = low-1\n",
    "    for j in range(low,high):\n",
    "        if arr[j] <= pivot:\n",
    "            i+=1\n",
    "            arr[i],arr[j]=arr[j],arr[i]\n",
    "    arr[i+1],arr[high] = arr[high],arr[i+1]\n",
    "    return i+1\n",
    "    \n",
    "\n",
    "def quicksort(arr,low,high):\n",
    "    if low < high:\n",
    "        pi = partition(arr,low,high)\n",
    "        quicksort(arr,low,pi-1)\n",
    "        quicksort(arr,pi+1,high)\n",
    "    return arr\n",
    "        \n",
    "        \n",
    "def sum_or_not(arr,sum):\n",
    "    low = 0\n",
    "    high = len(arr)-1\n",
    "    #arr_new = sorted(arr)\n",
    "    arr_new = quicksort(arr,low,high)\n",
    "    l = 0\n",
    "    r = len(arr)-1\n",
    "    while l<r:\n",
    "        if arr[l] + arr[r]==sum:\n",
    "            return 1\n",
    "        elif arr[l] + arr[r] > sum:\n",
    "            r -=1\n",
    "        else:\n",
    "            l +=1\n",
    "    return 0 \n",
    "    \n",
    "    \n",
    "arr = [10,15,3,7]\n",
    "arr1= sorted(arr)\n",
    "print(arr1)\n",
    "out = sum_or_not(arr,20)\n",
    "print(out)"
   ]
  },
  {
   "cell_type": "code",
   "execution_count": 3,
   "metadata": {},
   "outputs": [
    {
     "name": "stdout",
     "output_type": "stream",
     "text": [
      "[60, 120, 40, 48]\n",
      "[60, 120, 40, 48]\n"
     ]
    }
   ],
   "source": [
    "#2: Given an array of integers, return a new array such that each element at index i of the new array is the product of all the numbers in the original array except the one at i.\n",
    "#For example, if our input was [1, 2, 3, 4, 5], the expected output would be [120, 60, 40, 30, 24]. If our input was [3, 2, 1], the expected output would be [2, 3, 6].\n",
    "#With and without division.\n",
    "\n",
    "def with_division(arr):\n",
    "    ##add edge cases for elements with value 0\n",
    "    n = len(arr)\n",
    "    p =1\n",
    "    for i in range(0,n):\n",
    "        p = p* arr[i]\n",
    "        \n",
    "    output = []\n",
    "    for i in range(0,n):\n",
    "        output.append(p//arr[i])\n",
    "    return output\n",
    "\n",
    "def without_division(arr):\n",
    "    ##add edge cases for elements with value 0\n",
    "    n = len(arr)\n",
    "    p = 1\n",
    "    output = []\n",
    "    for i in range(0,n):\n",
    "        output.append(p)\n",
    "        p = p * arr[i]\n",
    "    #print(output)\n",
    "    p =1\n",
    "    for i in range(n-1,-1,-1):\n",
    "        output[i] = output[i]*p\n",
    "        p = p*arr[i]\n",
    "    \n",
    "    return output\n",
    "\n",
    "arr = [4,2,6,5]\n",
    "out = with_division(arr)\n",
    "out1 = without_division(arr)\n",
    "print(out)\n",
    "print(out1)"
   ]
  },
  {
   "cell_type": "code",
   "execution_count": 29,
   "metadata": {},
   "outputs": [
    {
     "name": "stdout",
     "output_type": "stream",
     "text": [
      "[3, 7, 10, 15]\n",
      "0\n"
     ]
    }
   ],
   "source": []
  },
  {
   "cell_type": "code",
   "execution_count": null,
   "metadata": {},
   "outputs": [],
   "source": []
  }
 ],
 "metadata": {
  "anaconda-cloud": {},
  "kernelspec": {
   "display_name": "Python 3",
   "language": "python",
   "name": "python3"
  },
  "language_info": {
   "codemirror_mode": {
    "name": "ipython",
    "version": 3
   },
   "file_extension": ".py",
   "mimetype": "text/x-python",
   "name": "python",
   "nbconvert_exporter": "python",
   "pygments_lexer": "ipython3",
   "version": "3.5.5"
  }
 },
 "nbformat": 4,
 "nbformat_minor": 1
}
