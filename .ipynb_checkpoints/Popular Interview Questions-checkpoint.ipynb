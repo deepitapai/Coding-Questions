{
 "cells": [
  {
   "cell_type": "code",
   "execution_count": null,
   "metadata": {
    "collapsed": true
   },
   "outputs": [],
   "source": [
    "#2: Given an array of integers, return a new array such that each element at index i of the new array is the product of all the numbers in the original array except the one at i.\n",
    "#For example, if our input was [1, 2, 3, 4, 5], the expected output would be [120, 60, 40, 30, 24]. If our input was [3, 2, 1], the expected output would be [2, 3, 6].\n",
    "#With and without division.\n",
    "\n",
    "def with_division(arr):\n",
    "    ##add edge cases for elements with value 0\n",
    "    n = len(arr)\n",
    "    p =1\n",
    "    for i in range(0,n):\n",
    "        p = p* arr[i]\n",
    "        \n",
    "    output = []\n",
    "    for i in range(0,n):\n",
    "        output.append(p//arr[i])\n",
    "    return output\n",
    "\n",
    "def without_division(arr):\n",
    "    ##add edge cases for elements with value 0\n",
    "    n = len(arr)\n",
    "    p = 1\n",
    "    output = []\n",
    "    for i in range(0,n):\n",
    "        output.append(p)\n",
    "        p = p * arr[i]\n",
    "    print(output)\n",
    "    p =1\n",
    "    for i in range(n-1,-1,-1):\n",
    "        output[i] = output[i]*p\n",
    "        p = p*arr[i]\n",
    "    \n",
    "    return output\n",
    "\n",
    "arr = [4,2,6,5]\n",
    "out = with_division(arr)\n",
    "out1 = without_division(arr)\n",
    "print(out)\n",
    "print(out1)"
   ]
  },
  {
   "cell_type": "code",
   "execution_count": null,
   "metadata": {
    "collapsed": true
   },
   "outputs": [],
   "source": []
  }
 ],
 "metadata": {
  "anaconda-cloud": {}
 },
 "nbformat": 4,
 "nbformat_minor": 0
}
